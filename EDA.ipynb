{
 "cells": [
  {
   "cell_type": "code",
   "execution_count": 42,
   "metadata": {
    "execution": {
     "iopub.execute_input": "2021-03-02T18:08:36.138284Z",
     "iopub.status.busy": "2021-03-02T18:08:36.137586Z",
     "iopub.status.idle": "2021-03-02T18:08:37.071618Z",
     "shell.execute_reply": "2021-03-02T18:08:37.070409Z"
    },
    "papermill": {
     "duration": 0.971258,
     "end_time": "2021-03-02T18:08:37.071945",
     "exception": false,
     "start_time": "2021-03-02T18:08:36.100687",
     "status": "completed"
    },
    "tags": []
   },
   "outputs": [],
   "source": [
    "#Importing Libraries"
   ]
  },
  {
   "cell_type": "code",
   "execution_count": 43,
   "metadata": {},
   "outputs": [],
   "source": [
    "import pandas as pd\n",
    "import numpy as np \n",
    "import seaborn as sns\n",
    "import matplotlib.pyplot as plt\n",
    "%matplotlib inline\n",
    "\n",
    "import warnings\n",
    "warnings.filterwarnings('ignore')"
   ]
  },
  {
   "cell_type": "code",
   "execution_count": 44,
   "metadata": {},
   "outputs": [],
   "source": [
    "# Reading the individual files and merging them to 1 file"
   ]
  },
  {
   "cell_type": "code",
   "execution_count": 45,
   "metadata": {},
   "outputs": [],
   "source": [
    "all_files = ['Workflow_Jan2019.csv',\n",
    "             'Workflow_Feb2019.csv',\n",
    "             'Workflow_Mar2019.csv',\n",
    "             'Workflow_Apr2019.csv',\n",
    "             'Workflow_May2019.csv',\n",
    "             'Workflow_Jun2019.csv']\n",
    "df_from_each_file = (pd.read_csv(f, index_col=[0]) for f in all_files)\n",
    "concatenated_df   = pd.concat(df_from_each_file, ignore_index=True)"
   ]
  },
  {
   "cell_type": "code",
   "execution_count": 46,
   "metadata": {
    "scrolled": false
   },
   "outputs": [
    {
     "data": {
      "text/html": [
       "<div>\n",
       "<style scoped>\n",
       "    .dataframe tbody tr th:only-of-type {\n",
       "        vertical-align: middle;\n",
       "    }\n",
       "\n",
       "    .dataframe tbody tr th {\n",
       "        vertical-align: top;\n",
       "    }\n",
       "\n",
       "    .dataframe thead th {\n",
       "        text-align: right;\n",
       "    }\n",
       "</style>\n",
       "<table border=\"1\" class=\"dataframe\">\n",
       "  <thead>\n",
       "    <tr style=\"text-align: right;\">\n",
       "      <th></th>\n",
       "      <th>EntityType</th>\n",
       "      <th>ReportingDate</th>\n",
       "      <th>ReportType</th>\n",
       "      <th>AgingDay</th>\n",
       "      <th>MurexRef</th>\n",
       "      <th>LatestTradeReason</th>\n",
       "      <th>TraderId_Insert</th>\n",
       "      <th>InstrumentName</th>\n",
       "      <th>Family</th>\n",
       "      <th>Group</th>\n",
       "      <th>Type</th>\n",
       "      <th>TradeDate</th>\n",
       "      <th>TradeTime</th>\n",
       "      <th>EventAging</th>\n",
       "      <th>Portfolio</th>\n",
       "    </tr>\n",
       "  </thead>\n",
       "  <tbody>\n",
       "    <tr>\n",
       "      <th>0</th>\n",
       "      <td>A</td>\n",
       "      <td>02/01/2019</td>\n",
       "      <td>CNR</td>\n",
       "      <td>2</td>\n",
       "      <td>142001107</td>\n",
       "      <td>OWN</td>\n",
       "      <td>T_44</td>\n",
       "      <td>HKD DEPOSIT</td>\n",
       "      <td>IRD</td>\n",
       "      <td>LN_BR</td>\n",
       "      <td>NaN</td>\n",
       "      <td>02/01/2019</td>\n",
       "      <td>10:28:10</td>\n",
       "      <td>0</td>\n",
       "      <td>CRD IDBO A_SG</td>\n",
       "    </tr>\n",
       "    <tr>\n",
       "      <th>1</th>\n",
       "      <td>A</td>\n",
       "      <td>02/01/2019</td>\n",
       "      <td>CNR</td>\n",
       "      <td>0</td>\n",
       "      <td>142003352</td>\n",
       "      <td>OTH</td>\n",
       "      <td>T_93</td>\n",
       "      <td>S&amp;P 500 MINI</td>\n",
       "      <td>EQD</td>\n",
       "      <td>FUT</td>\n",
       "      <td>NaN</td>\n",
       "      <td>02/01/2019</td>\n",
       "      <td>10:45:44</td>\n",
       "      <td>0</td>\n",
       "      <td>BEZ A_SG LDN</td>\n",
       "    </tr>\n",
       "    <tr>\n",
       "      <th>2</th>\n",
       "      <td>A</td>\n",
       "      <td>02/01/2019</td>\n",
       "      <td>CNR</td>\n",
       "      <td>0</td>\n",
       "      <td>142003617</td>\n",
       "      <td>OTH</td>\n",
       "      <td>T_93</td>\n",
       "      <td>S&amp;P 500 MINI</td>\n",
       "      <td>EQD</td>\n",
       "      <td>FUT</td>\n",
       "      <td>NaN</td>\n",
       "      <td>02/01/2019</td>\n",
       "      <td>10:47:14</td>\n",
       "      <td>0</td>\n",
       "      <td>OP PVT A_SG FX</td>\n",
       "    </tr>\n",
       "    <tr>\n",
       "      <th>3</th>\n",
       "      <td>A</td>\n",
       "      <td>02/01/2019</td>\n",
       "      <td>CNR</td>\n",
       "      <td>2</td>\n",
       "      <td>142003752</td>\n",
       "      <td>OWN</td>\n",
       "      <td>T_5</td>\n",
       "      <td>USD/HKD</td>\n",
       "      <td>CURR</td>\n",
       "      <td>FXD</td>\n",
       "      <td>SWLEG</td>\n",
       "      <td>02/01/2019</td>\n",
       "      <td>10:02:54</td>\n",
       "      <td>0</td>\n",
       "      <td>G7 A_SG GAP</td>\n",
       "    </tr>\n",
       "    <tr>\n",
       "      <th>4</th>\n",
       "      <td>A</td>\n",
       "      <td>02/01/2019</td>\n",
       "      <td>CNR</td>\n",
       "      <td>2</td>\n",
       "      <td>142003753</td>\n",
       "      <td>OWN</td>\n",
       "      <td>T_5</td>\n",
       "      <td>USD/HKD</td>\n",
       "      <td>CURR</td>\n",
       "      <td>FXD</td>\n",
       "      <td>SWLEG</td>\n",
       "      <td>02/01/2019</td>\n",
       "      <td>10:02:54</td>\n",
       "      <td>0</td>\n",
       "      <td>A_SG AMM YYG</td>\n",
       "    </tr>\n",
       "  </tbody>\n",
       "</table>\n",
       "</div>"
      ],
      "text/plain": [
       "  EntityType ReportingDate ReportType  AgingDay   MurexRef LatestTradeReason  \\\n",
       "0          A    02/01/2019        CNR         2  142001107               OWN   \n",
       "1          A    02/01/2019        CNR         0  142003352               OTH   \n",
       "2          A    02/01/2019        CNR         0  142003617               OTH   \n",
       "3          A    02/01/2019        CNR         2  142003752               OWN   \n",
       "4          A    02/01/2019        CNR         2  142003753               OWN   \n",
       "\n",
       "  TraderId_Insert InstrumentName Family  Group   Type   TradeDate TradeTime  \\\n",
       "0            T_44    HKD DEPOSIT    IRD  LN_BR    NaN  02/01/2019  10:28:10   \n",
       "1            T_93   S&P 500 MINI    EQD    FUT    NaN  02/01/2019  10:45:44   \n",
       "2            T_93   S&P 500 MINI    EQD    FUT    NaN  02/01/2019  10:47:14   \n",
       "3             T_5        USD/HKD   CURR    FXD  SWLEG  02/01/2019  10:02:54   \n",
       "4             T_5        USD/HKD   CURR    FXD  SWLEG  02/01/2019  10:02:54   \n",
       "\n",
       "   EventAging       Portfolio  \n",
       "0           0   CRD IDBO A_SG  \n",
       "1           0    BEZ A_SG LDN  \n",
       "2           0  OP PVT A_SG FX  \n",
       "3           0     G7 A_SG GAP  \n",
       "4           0    A_SG AMM YYG  "
      ]
     },
     "execution_count": 46,
     "metadata": {},
     "output_type": "execute_result"
    }
   ],
   "source": [
    "concatenated_df.head()"
   ]
  },
  {
   "cell_type": "code",
   "execution_count": 47,
   "metadata": {},
   "outputs": [
    {
     "data": {
      "text/html": [
       "<div>\n",
       "<style scoped>\n",
       "    .dataframe tbody tr th:only-of-type {\n",
       "        vertical-align: middle;\n",
       "    }\n",
       "\n",
       "    .dataframe tbody tr th {\n",
       "        vertical-align: top;\n",
       "    }\n",
       "\n",
       "    .dataframe thead th {\n",
       "        text-align: right;\n",
       "    }\n",
       "</style>\n",
       "<table border=\"1\" class=\"dataframe\">\n",
       "  <thead>\n",
       "    <tr style=\"text-align: right;\">\n",
       "      <th></th>\n",
       "      <th>12829</th>\n",
       "      <th>229</th>\n",
       "      <th>17674</th>\n",
       "      <th>17156</th>\n",
       "      <th>6835</th>\n",
       "    </tr>\n",
       "  </thead>\n",
       "  <tbody>\n",
       "    <tr>\n",
       "      <th>EntityType</th>\n",
       "      <td>A</td>\n",
       "      <td>A</td>\n",
       "      <td>A</td>\n",
       "      <td>A</td>\n",
       "      <td>A</td>\n",
       "    </tr>\n",
       "    <tr>\n",
       "      <th>ReportingDate</th>\n",
       "      <td>26/04/2019</td>\n",
       "      <td>04/01/2019</td>\n",
       "      <td>13/06/2019</td>\n",
       "      <td>10/06/2019</td>\n",
       "      <td>05/03/2019</td>\n",
       "    </tr>\n",
       "    <tr>\n",
       "      <th>ReportType</th>\n",
       "      <td>CNR</td>\n",
       "      <td>CNR</td>\n",
       "      <td>CNR</td>\n",
       "      <td>CNR</td>\n",
       "      <td>CNR</td>\n",
       "    </tr>\n",
       "    <tr>\n",
       "      <th>AgingDay</th>\n",
       "      <td>0</td>\n",
       "      <td>0</td>\n",
       "      <td>0</td>\n",
       "      <td>0</td>\n",
       "      <td>0</td>\n",
       "    </tr>\n",
       "    <tr>\n",
       "      <th>MurexRef</th>\n",
       "      <td>146951654</td>\n",
       "      <td>142169355</td>\n",
       "      <td>140815639</td>\n",
       "      <td>148680963</td>\n",
       "      <td>144630443</td>\n",
       "    </tr>\n",
       "    <tr>\n",
       "      <th>LatestTradeReason</th>\n",
       "      <td>OTH</td>\n",
       "      <td>OTH</td>\n",
       "      <td>OTH</td>\n",
       "      <td>OWN</td>\n",
       "      <td>OTH</td>\n",
       "    </tr>\n",
       "    <tr>\n",
       "      <th>TraderId_Insert</th>\n",
       "      <td>T_12</td>\n",
       "      <td>T_1</td>\n",
       "      <td>T_16</td>\n",
       "      <td>T_32</td>\n",
       "      <td>T_3</td>\n",
       "    </tr>\n",
       "    <tr>\n",
       "      <th>InstrumentName</th>\n",
       "      <td>USD IRS FA</td>\n",
       "      <td>MAS MD18151X</td>\n",
       "      <td>USD BSSGD 6M6M</td>\n",
       "      <td>ENRANGE6331</td>\n",
       "      <td>USD/EUR</td>\n",
       "    </tr>\n",
       "    <tr>\n",
       "      <th>Family</th>\n",
       "      <td>IRD</td>\n",
       "      <td>IRD</td>\n",
       "      <td>IRD</td>\n",
       "      <td>IRD</td>\n",
       "      <td>CURR</td>\n",
       "    </tr>\n",
       "    <tr>\n",
       "      <th>Group</th>\n",
       "      <td>IRS</td>\n",
       "      <td>BOND</td>\n",
       "      <td>CS</td>\n",
       "      <td>BOND</td>\n",
       "      <td>FXD</td>\n",
       "    </tr>\n",
       "    <tr>\n",
       "      <th>Type</th>\n",
       "      <td>NaN</td>\n",
       "      <td>NaN</td>\n",
       "      <td>NaN</td>\n",
       "      <td>NaN</td>\n",
       "      <td>FXD</td>\n",
       "    </tr>\n",
       "    <tr>\n",
       "      <th>TradeDate</th>\n",
       "      <td>21/12/2018</td>\n",
       "      <td>04/01/2019</td>\n",
       "      <td>16/10/2018</td>\n",
       "      <td>06/06/2019</td>\n",
       "      <td>04/03/2019</td>\n",
       "    </tr>\n",
       "    <tr>\n",
       "      <th>TradeTime</th>\n",
       "      <td>10:24:53</td>\n",
       "      <td>16:19:11</td>\n",
       "      <td>18:26:14</td>\n",
       "      <td>8:47:41</td>\n",
       "      <td>22:38:32</td>\n",
       "    </tr>\n",
       "    <tr>\n",
       "      <th>EventAging</th>\n",
       "      <td>85</td>\n",
       "      <td>0</td>\n",
       "      <td>163</td>\n",
       "      <td>2</td>\n",
       "      <td>1</td>\n",
       "    </tr>\n",
       "    <tr>\n",
       "      <th>Portfolio</th>\n",
       "      <td>A_SG DOLSW AMM</td>\n",
       "      <td>A_SG SW ACU</td>\n",
       "      <td>A_SG EQSG USST</td>\n",
       "      <td>EQSG A_SG USST</td>\n",
       "      <td>CRD A_SG TRS</td>\n",
       "    </tr>\n",
       "  </tbody>\n",
       "</table>\n",
       "</div>"
      ],
      "text/plain": [
       "                            12829         229             17674  \\\n",
       "EntityType                      A             A               A   \n",
       "ReportingDate          26/04/2019    04/01/2019      13/06/2019   \n",
       "ReportType                    CNR           CNR             CNR   \n",
       "AgingDay                        0             0               0   \n",
       "MurexRef                146951654     142169355       140815639   \n",
       "LatestTradeReason             OTH           OTH             OTH   \n",
       "TraderId_Insert              T_12           T_1            T_16   \n",
       "InstrumentName         USD IRS FA  MAS MD18151X  USD BSSGD 6M6M   \n",
       "Family                        IRD           IRD             IRD   \n",
       "Group                         IRS          BOND              CS   \n",
       "Type                          NaN           NaN             NaN   \n",
       "TradeDate              21/12/2018    04/01/2019      16/10/2018   \n",
       "TradeTime                10:24:53      16:19:11        18:26:14   \n",
       "EventAging                     85             0             163   \n",
       "Portfolio          A_SG DOLSW AMM   A_SG SW ACU  A_SG EQSG USST   \n",
       "\n",
       "                            17156         6835   \n",
       "EntityType                      A             A  \n",
       "ReportingDate          10/06/2019    05/03/2019  \n",
       "ReportType                    CNR           CNR  \n",
       "AgingDay                        0             0  \n",
       "MurexRef                148680963     144630443  \n",
       "LatestTradeReason             OWN           OTH  \n",
       "TraderId_Insert              T_32           T_3  \n",
       "InstrumentName        ENRANGE6331       USD/EUR  \n",
       "Family                        IRD          CURR  \n",
       "Group                        BOND           FXD  \n",
       "Type                          NaN           FXD  \n",
       "TradeDate              06/06/2019    04/03/2019  \n",
       "TradeTime                 8:47:41      22:38:32  \n",
       "EventAging                      2             1  \n",
       "Portfolio          EQSG A_SG USST  CRD A_SG TRS  "
      ]
     },
     "execution_count": 47,
     "metadata": {},
     "output_type": "execute_result"
    }
   ],
   "source": [
    "concatenated_df.sample(5, random_state=5).T"
   ]
  },
  {
   "cell_type": "code",
   "execution_count": 48,
   "metadata": {
    "scrolled": true
   },
   "outputs": [
    {
     "data": {
      "text/html": [
       "<div>\n",
       "<style scoped>\n",
       "    .dataframe tbody tr th:only-of-type {\n",
       "        vertical-align: middle;\n",
       "    }\n",
       "\n",
       "    .dataframe tbody tr th {\n",
       "        vertical-align: top;\n",
       "    }\n",
       "\n",
       "    .dataframe thead th {\n",
       "        text-align: right;\n",
       "    }\n",
       "</style>\n",
       "<table border=\"1\" class=\"dataframe\">\n",
       "  <thead>\n",
       "    <tr style=\"text-align: right;\">\n",
       "      <th></th>\n",
       "      <th>EntityType</th>\n",
       "      <th>ReportingDate</th>\n",
       "      <th>ReportType</th>\n",
       "      <th>AgingDay</th>\n",
       "      <th>MurexRef</th>\n",
       "      <th>LatestTradeReason</th>\n",
       "      <th>TraderId_Insert</th>\n",
       "      <th>InstrumentName</th>\n",
       "      <th>Family</th>\n",
       "      <th>Group</th>\n",
       "      <th>Type</th>\n",
       "      <th>TradeDate</th>\n",
       "      <th>TradeTime</th>\n",
       "      <th>EventAging</th>\n",
       "      <th>Portfolio</th>\n",
       "    </tr>\n",
       "  </thead>\n",
       "  <tbody>\n",
       "    <tr>\n",
       "      <th>0</th>\n",
       "      <td>A</td>\n",
       "      <td>02/01/2019</td>\n",
       "      <td>CNR</td>\n",
       "      <td>2</td>\n",
       "      <td>142001107</td>\n",
       "      <td>OWN</td>\n",
       "      <td>T_44</td>\n",
       "      <td>HKD DEPOSIT</td>\n",
       "      <td>IRD</td>\n",
       "      <td>LN_BR</td>\n",
       "      <td>NaN</td>\n",
       "      <td>02/01/2019</td>\n",
       "      <td>10:28:10</td>\n",
       "      <td>0</td>\n",
       "      <td>CRD IDBO A_SG</td>\n",
       "    </tr>\n",
       "    <tr>\n",
       "      <th>1</th>\n",
       "      <td>A</td>\n",
       "      <td>02/01/2019</td>\n",
       "      <td>CNR</td>\n",
       "      <td>0</td>\n",
       "      <td>142003352</td>\n",
       "      <td>OTH</td>\n",
       "      <td>T_93</td>\n",
       "      <td>S&amp;P 500 MINI</td>\n",
       "      <td>EQD</td>\n",
       "      <td>FUT</td>\n",
       "      <td>NaN</td>\n",
       "      <td>02/01/2019</td>\n",
       "      <td>10:45:44</td>\n",
       "      <td>0</td>\n",
       "      <td>BEZ A_SG LDN</td>\n",
       "    </tr>\n",
       "    <tr>\n",
       "      <th>2</th>\n",
       "      <td>A</td>\n",
       "      <td>02/01/2019</td>\n",
       "      <td>CNR</td>\n",
       "      <td>0</td>\n",
       "      <td>142003617</td>\n",
       "      <td>OTH</td>\n",
       "      <td>T_93</td>\n",
       "      <td>S&amp;P 500 MINI</td>\n",
       "      <td>EQD</td>\n",
       "      <td>FUT</td>\n",
       "      <td>NaN</td>\n",
       "      <td>02/01/2019</td>\n",
       "      <td>10:47:14</td>\n",
       "      <td>0</td>\n",
       "      <td>OP PVT A_SG FX</td>\n",
       "    </tr>\n",
       "    <tr>\n",
       "      <th>3</th>\n",
       "      <td>A</td>\n",
       "      <td>02/01/2019</td>\n",
       "      <td>CNR</td>\n",
       "      <td>2</td>\n",
       "      <td>142003752</td>\n",
       "      <td>OWN</td>\n",
       "      <td>T_5</td>\n",
       "      <td>USD/HKD</td>\n",
       "      <td>CURR</td>\n",
       "      <td>FXD</td>\n",
       "      <td>SWLEG</td>\n",
       "      <td>02/01/2019</td>\n",
       "      <td>10:02:54</td>\n",
       "      <td>0</td>\n",
       "      <td>G7 A_SG GAP</td>\n",
       "    </tr>\n",
       "    <tr>\n",
       "      <th>4</th>\n",
       "      <td>A</td>\n",
       "      <td>02/01/2019</td>\n",
       "      <td>CNR</td>\n",
       "      <td>2</td>\n",
       "      <td>142003753</td>\n",
       "      <td>OWN</td>\n",
       "      <td>T_5</td>\n",
       "      <td>USD/HKD</td>\n",
       "      <td>CURR</td>\n",
       "      <td>FXD</td>\n",
       "      <td>SWLEG</td>\n",
       "      <td>02/01/2019</td>\n",
       "      <td>10:02:54</td>\n",
       "      <td>0</td>\n",
       "      <td>A_SG AMM YYG</td>\n",
       "    </tr>\n",
       "    <tr>\n",
       "      <th>...</th>\n",
       "      <td>...</td>\n",
       "      <td>...</td>\n",
       "      <td>...</td>\n",
       "      <td>...</td>\n",
       "      <td>...</td>\n",
       "      <td>...</td>\n",
       "      <td>...</td>\n",
       "      <td>...</td>\n",
       "      <td>...</td>\n",
       "      <td>...</td>\n",
       "      <td>...</td>\n",
       "      <td>...</td>\n",
       "      <td>...</td>\n",
       "      <td>...</td>\n",
       "      <td>...</td>\n",
       "    </tr>\n",
       "    <tr>\n",
       "      <th>19022</th>\n",
       "      <td>A</td>\n",
       "      <td>28/06/2019</td>\n",
       "      <td>CNR</td>\n",
       "      <td>0</td>\n",
       "      <td>149655866</td>\n",
       "      <td>OTH</td>\n",
       "      <td>T_3</td>\n",
       "      <td>USD/SGD</td>\n",
       "      <td>CURR</td>\n",
       "      <td>FXD</td>\n",
       "      <td>FXD</td>\n",
       "      <td>28/06/2019</td>\n",
       "      <td>17:56:29</td>\n",
       "      <td>0</td>\n",
       "      <td>CASH A_SG G7</td>\n",
       "    </tr>\n",
       "    <tr>\n",
       "      <th>19023</th>\n",
       "      <td>A</td>\n",
       "      <td>28/06/2019</td>\n",
       "      <td>CNR</td>\n",
       "      <td>0</td>\n",
       "      <td>149655866</td>\n",
       "      <td>OTH</td>\n",
       "      <td>T_3</td>\n",
       "      <td>USD/SGD</td>\n",
       "      <td>CURR</td>\n",
       "      <td>FXD</td>\n",
       "      <td>FXD</td>\n",
       "      <td>28/06/2019</td>\n",
       "      <td>17:56:29</td>\n",
       "      <td>0</td>\n",
       "      <td>FID IBGTM A_SG</td>\n",
       "    </tr>\n",
       "    <tr>\n",
       "      <th>19024</th>\n",
       "      <td>A</td>\n",
       "      <td>28/06/2019</td>\n",
       "      <td>CNR</td>\n",
       "      <td>0</td>\n",
       "      <td>149655867</td>\n",
       "      <td>OTH</td>\n",
       "      <td>T_3</td>\n",
       "      <td>USD/SGD</td>\n",
       "      <td>CURR</td>\n",
       "      <td>FXD</td>\n",
       "      <td>FXD</td>\n",
       "      <td>28/06/2019</td>\n",
       "      <td>17:56:29</td>\n",
       "      <td>0</td>\n",
       "      <td>SPOT ELT A_SG</td>\n",
       "    </tr>\n",
       "    <tr>\n",
       "      <th>19025</th>\n",
       "      <td>A</td>\n",
       "      <td>28/06/2019</td>\n",
       "      <td>CNR</td>\n",
       "      <td>0</td>\n",
       "      <td>149655867</td>\n",
       "      <td>OTH</td>\n",
       "      <td>T_3</td>\n",
       "      <td>USD/SGD</td>\n",
       "      <td>CURR</td>\n",
       "      <td>FXD</td>\n",
       "      <td>FXD</td>\n",
       "      <td>28/06/2019</td>\n",
       "      <td>17:56:29</td>\n",
       "      <td>0</td>\n",
       "      <td>G7 A_SG GAP</td>\n",
       "    </tr>\n",
       "    <tr>\n",
       "      <th>19026</th>\n",
       "      <td>A</td>\n",
       "      <td>28/06/2019</td>\n",
       "      <td>CNR</td>\n",
       "      <td>0</td>\n",
       "      <td>149658386</td>\n",
       "      <td>OTH</td>\n",
       "      <td>T_65</td>\n",
       "      <td>JPY/AUD</td>\n",
       "      <td>CURR</td>\n",
       "      <td>OPT</td>\n",
       "      <td>FLEX</td>\n",
       "      <td>28/06/2019</td>\n",
       "      <td>18:55:53</td>\n",
       "      <td>0</td>\n",
       "      <td>LDN A_SG QSH</td>\n",
       "    </tr>\n",
       "  </tbody>\n",
       "</table>\n",
       "<p>19009 rows × 15 columns</p>\n",
       "</div>"
      ],
      "text/plain": [
       "      EntityType ReportingDate ReportType  AgingDay   MurexRef  \\\n",
       "0              A    02/01/2019        CNR         2  142001107   \n",
       "1              A    02/01/2019        CNR         0  142003352   \n",
       "2              A    02/01/2019        CNR         0  142003617   \n",
       "3              A    02/01/2019        CNR         2  142003752   \n",
       "4              A    02/01/2019        CNR         2  142003753   \n",
       "...          ...           ...        ...       ...        ...   \n",
       "19022          A    28/06/2019        CNR         0  149655866   \n",
       "19023          A    28/06/2019        CNR         0  149655866   \n",
       "19024          A    28/06/2019        CNR         0  149655867   \n",
       "19025          A    28/06/2019        CNR         0  149655867   \n",
       "19026          A    28/06/2019        CNR         0  149658386   \n",
       "\n",
       "      LatestTradeReason TraderId_Insert InstrumentName Family  Group   Type  \\\n",
       "0                   OWN            T_44    HKD DEPOSIT    IRD  LN_BR    NaN   \n",
       "1                   OTH            T_93   S&P 500 MINI    EQD    FUT    NaN   \n",
       "2                   OTH            T_93   S&P 500 MINI    EQD    FUT    NaN   \n",
       "3                   OWN             T_5        USD/HKD   CURR    FXD  SWLEG   \n",
       "4                   OWN             T_5        USD/HKD   CURR    FXD  SWLEG   \n",
       "...                 ...             ...            ...    ...    ...    ...   \n",
       "19022               OTH             T_3        USD/SGD   CURR    FXD    FXD   \n",
       "19023               OTH             T_3        USD/SGD   CURR    FXD    FXD   \n",
       "19024               OTH             T_3        USD/SGD   CURR    FXD    FXD   \n",
       "19025               OTH             T_3        USD/SGD   CURR    FXD    FXD   \n",
       "19026               OTH            T_65        JPY/AUD   CURR    OPT   FLEX   \n",
       "\n",
       "        TradeDate TradeTime  EventAging       Portfolio  \n",
       "0      02/01/2019  10:28:10           0   CRD IDBO A_SG  \n",
       "1      02/01/2019  10:45:44           0    BEZ A_SG LDN  \n",
       "2      02/01/2019  10:47:14           0  OP PVT A_SG FX  \n",
       "3      02/01/2019  10:02:54           0     G7 A_SG GAP  \n",
       "4      02/01/2019  10:02:54           0    A_SG AMM YYG  \n",
       "...           ...       ...         ...             ...  \n",
       "19022  28/06/2019  17:56:29           0    CASH A_SG G7  \n",
       "19023  28/06/2019  17:56:29           0  FID IBGTM A_SG  \n",
       "19024  28/06/2019  17:56:29           0   SPOT ELT A_SG  \n",
       "19025  28/06/2019  17:56:29           0     G7 A_SG GAP  \n",
       "19026  28/06/2019  18:55:53           0    LDN A_SG QSH  \n",
       "\n",
       "[19009 rows x 15 columns]"
      ]
     },
     "execution_count": 48,
     "metadata": {},
     "output_type": "execute_result"
    }
   ],
   "source": [
    "concatenated_df.drop_duplicates()"
   ]
  },
  {
   "cell_type": "code",
   "execution_count": 49,
   "metadata": {},
   "outputs": [],
   "source": [
    "# Description of Data"
   ]
  },
  {
   "cell_type": "code",
   "execution_count": 50,
   "metadata": {},
   "outputs": [
    {
     "data": {
      "text/html": [
       "<div>\n",
       "<style scoped>\n",
       "    .dataframe tbody tr th:only-of-type {\n",
       "        vertical-align: middle;\n",
       "    }\n",
       "\n",
       "    .dataframe tbody tr th {\n",
       "        vertical-align: top;\n",
       "    }\n",
       "\n",
       "    .dataframe thead th {\n",
       "        text-align: right;\n",
       "    }\n",
       "</style>\n",
       "<table border=\"1\" class=\"dataframe\">\n",
       "  <thead>\n",
       "    <tr style=\"text-align: right;\">\n",
       "      <th></th>\n",
       "      <th>AgingDay</th>\n",
       "      <th>MurexRef</th>\n",
       "      <th>EventAging</th>\n",
       "    </tr>\n",
       "  </thead>\n",
       "  <tbody>\n",
       "    <tr>\n",
       "      <th>count</th>\n",
       "      <td>19027.000000</td>\n",
       "      <td>1.902700e+04</td>\n",
       "      <td>19027.000000</td>\n",
       "    </tr>\n",
       "    <tr>\n",
       "      <th>mean</th>\n",
       "      <td>0.632785</td>\n",
       "      <td>1.436372e+08</td>\n",
       "      <td>45.745835</td>\n",
       "    </tr>\n",
       "    <tr>\n",
       "      <th>std</th>\n",
       "      <td>0.985314</td>\n",
       "      <td>9.127371e+06</td>\n",
       "      <td>188.024011</td>\n",
       "    </tr>\n",
       "    <tr>\n",
       "      <th>min</th>\n",
       "      <td>0.000000</td>\n",
       "      <td>3.460592e+07</td>\n",
       "      <td>0.000000</td>\n",
       "    </tr>\n",
       "    <tr>\n",
       "      <th>25%</th>\n",
       "      <td>0.000000</td>\n",
       "      <td>1.429133e+08</td>\n",
       "      <td>0.000000</td>\n",
       "    </tr>\n",
       "    <tr>\n",
       "      <th>50%</th>\n",
       "      <td>0.000000</td>\n",
       "      <td>1.448500e+08</td>\n",
       "      <td>1.000000</td>\n",
       "    </tr>\n",
       "    <tr>\n",
       "      <th>75%</th>\n",
       "      <td>1.000000</td>\n",
       "      <td>1.470290e+08</td>\n",
       "      <td>4.000000</td>\n",
       "    </tr>\n",
       "    <tr>\n",
       "      <th>max</th>\n",
       "      <td>15.000000</td>\n",
       "      <td>1.496609e+08</td>\n",
       "      <td>3121.000000</td>\n",
       "    </tr>\n",
       "  </tbody>\n",
       "</table>\n",
       "</div>"
      ],
      "text/plain": [
       "           AgingDay      MurexRef    EventAging\n",
       "count  19027.000000  1.902700e+04  19027.000000\n",
       "mean       0.632785  1.436372e+08     45.745835\n",
       "std        0.985314  9.127371e+06    188.024011\n",
       "min        0.000000  3.460592e+07      0.000000\n",
       "25%        0.000000  1.429133e+08      0.000000\n",
       "50%        0.000000  1.448500e+08      1.000000\n",
       "75%        1.000000  1.470290e+08      4.000000\n",
       "max       15.000000  1.496609e+08   3121.000000"
      ]
     },
     "execution_count": 50,
     "metadata": {},
     "output_type": "execute_result"
    }
   ],
   "source": [
    "concatenated_df.describe()"
   ]
  },
  {
   "cell_type": "code",
   "execution_count": 51,
   "metadata": {
    "scrolled": true
   },
   "outputs": [
    {
     "data": {
      "text/plain": [
       "(19027, 15)"
      ]
     },
     "execution_count": 51,
     "metadata": {},
     "output_type": "execute_result"
    }
   ],
   "source": [
    "concatenated_df.shape"
   ]
  },
  {
   "cell_type": "code",
   "execution_count": 52,
   "metadata": {},
   "outputs": [
    {
     "name": "stdout",
     "output_type": "stream",
     "text": [
      "<class 'pandas.core.frame.DataFrame'>\n",
      "RangeIndex: 19027 entries, 0 to 19026\n",
      "Data columns (total 15 columns):\n",
      " #   Column             Non-Null Count  Dtype \n",
      "---  ------             --------------  ----- \n",
      " 0   EntityType         19027 non-null  object\n",
      " 1   ReportingDate      19027 non-null  object\n",
      " 2   ReportType         19027 non-null  object\n",
      " 3   AgingDay           19027 non-null  int64 \n",
      " 4   MurexRef           19027 non-null  int64 \n",
      " 5   LatestTradeReason  18805 non-null  object\n",
      " 6   TraderId_Insert    19017 non-null  object\n",
      " 7   InstrumentName     19027 non-null  object\n",
      " 8   Family             19027 non-null  object\n",
      " 9   Group              19027 non-null  object\n",
      " 10  Type               9764 non-null   object\n",
      " 11  TradeDate          19027 non-null  object\n",
      " 12  TradeTime          19027 non-null  object\n",
      " 13  EventAging         19027 non-null  int64 \n",
      " 14  Portfolio          19027 non-null  object\n",
      "dtypes: int64(3), object(12)\n",
      "memory usage: 2.2+ MB\n"
     ]
    }
   ],
   "source": [
    "concatenated_df.info()"
   ]
  },
  {
   "cell_type": "code",
   "execution_count": 53,
   "metadata": {
    "scrolled": true
   },
   "outputs": [
    {
     "data": {
      "text/plain": [
       "EntityType              0\n",
       "ReportingDate           0\n",
       "ReportType              0\n",
       "AgingDay                0\n",
       "MurexRef                0\n",
       "LatestTradeReason     222\n",
       "TraderId_Insert        10\n",
       "InstrumentName          0\n",
       "Family                  0\n",
       "Group                   0\n",
       "Type                 9263\n",
       "TradeDate               0\n",
       "TradeTime               0\n",
       "EventAging              0\n",
       "Portfolio               0\n",
       "dtype: int64"
      ]
     },
     "execution_count": 53,
     "metadata": {},
     "output_type": "execute_result"
    }
   ],
   "source": [
    "concatenated_df.isnull().sum()"
   ]
  },
  {
   "cell_type": "code",
   "execution_count": 54,
   "metadata": {},
   "outputs": [
    {
     "data": {
      "text/plain": [
       "EntityType           object\n",
       "ReportingDate        object\n",
       "ReportType           object\n",
       "AgingDay              int64\n",
       "MurexRef              int64\n",
       "LatestTradeReason    object\n",
       "TraderId_Insert      object\n",
       "InstrumentName       object\n",
       "Family               object\n",
       "Group                object\n",
       "Type                 object\n",
       "TradeDate            object\n",
       "TradeTime            object\n",
       "EventAging            int64\n",
       "Portfolio            object\n",
       "dtype: object"
      ]
     },
     "execution_count": 54,
     "metadata": {},
     "output_type": "execute_result"
    }
   ],
   "source": [
    "concatenated_df.dtypes"
   ]
  },
  {
   "cell_type": "code",
   "execution_count": 55,
   "metadata": {},
   "outputs": [],
   "source": [
    "#Data Preprocessing"
   ]
  },
  {
   "cell_type": "code",
   "execution_count": 56,
   "metadata": {},
   "outputs": [],
   "source": [
    "#Dropping columns not used for analysis"
   ]
  },
  {
   "cell_type": "code",
   "execution_count": 57,
   "metadata": {},
   "outputs": [],
   "source": [
    "concatenated_df.drop(['EntityType', 'MurexRef', 'TradeTime'], axis = 1, inplace=True)"
   ]
  },
  {
   "cell_type": "code",
   "execution_count": 58,
   "metadata": {},
   "outputs": [],
   "source": [
    "#Imputing missing values for  LatestTradeReason "
   ]
  },
  {
   "cell_type": "code",
   "execution_count": 59,
   "metadata": {},
   "outputs": [
    {
     "data": {
      "text/plain": [
       "array(['OWN', 'OTH', 'BO', nan, 'OWNBO'], dtype=object)"
      ]
     },
     "execution_count": 59,
     "metadata": {},
     "output_type": "execute_result"
    }
   ],
   "source": [
    "concatenated_df['LatestTradeReason'].unique()"
   ]
  },
  {
   "cell_type": "code",
   "execution_count": 60,
   "metadata": {},
   "outputs": [
    {
     "data": {
      "text/plain": [
       "OTH      15005\n",
       "OWN       3678\n",
       "BO         109\n",
       "OWNBO       13\n",
       "Name: LatestTradeReason, dtype: int64"
      ]
     },
     "execution_count": 60,
     "metadata": {},
     "output_type": "execute_result"
    }
   ],
   "source": [
    "concatenated_df['LatestTradeReason'].value_counts()"
   ]
  },
  {
   "cell_type": "code",
   "execution_count": 61,
   "metadata": {},
   "outputs": [],
   "source": [
    "concatenated_df['LatestTradeReason'].fillna('OTH', inplace=True)"
   ]
  },
  {
   "cell_type": "code",
   "execution_count": 62,
   "metadata": {},
   "outputs": [
    {
     "data": {
      "text/plain": [
       "OTH      15227\n",
       "OWN       3678\n",
       "BO         109\n",
       "OWNBO       13\n",
       "Name: LatestTradeReason, dtype: int64"
      ]
     },
     "execution_count": 62,
     "metadata": {},
     "output_type": "execute_result"
    }
   ],
   "source": [
    "concatenated_df['LatestTradeReason'].value_counts()"
   ]
  },
  {
   "cell_type": "code",
   "execution_count": 63,
   "metadata": {},
   "outputs": [],
   "source": [
    "#Dropping the null values for TraderId_Insert"
   ]
  },
  {
   "cell_type": "code",
   "execution_count": 64,
   "metadata": {},
   "outputs": [],
   "source": [
    "concatenated_df.dropna(subset=['TraderId_Insert'], inplace=True)"
   ]
  },
  {
   "cell_type": "code",
   "execution_count": 65,
   "metadata": {},
   "outputs": [],
   "source": [
    "#Create ProductType column"
   ]
  },
  {
   "cell_type": "code",
   "execution_count": 66,
   "metadata": {},
   "outputs": [],
   "source": [
    "concatenated_df['ProductType'] = np.where(pd.isnull(concatenated_df['Type']), \\\n",
    "                    concatenated_df.Family+'_'+concatenated_df.Group, \\\n",
    "                    concatenated_df.Family+'_'+concatenated_df.Group+'_'+concatenated_df.Type)"
   ]
  },
  {
   "cell_type": "code",
   "execution_count": 67,
   "metadata": {},
   "outputs": [
    {
     "data": {
      "text/plain": [
       "array(['IRD_LN_BR', 'EQD_FUT', 'CURR_FXD_SWLEG', 'CURR_FXD_FXD',\n",
       "       'CURR_OPT_FLEX', 'CURR_OPT_SMP', 'CURR_OPT_BAR', 'EQD_OPT_FLEX',\n",
       "       'EQD_EQUIT', 'IRD_BOND', 'EQD_EQS', 'SCF_SCF_SCF', 'EQD_OPT_OTC',\n",
       "       'COM_FUT', 'IRD_IRS', 'IRD_REPO_REPO', 'IRD_SFUT', 'COM_SWAP',\n",
       "       'IRD_CS', 'CURR_OPT_RBT', 'IRD_CF', 'EQD_OPT_ORG', 'IRD_LFUT',\n",
       "       'EQD_REPO_REPO', 'EQD_OPT_BAR', 'CURR_OPT_BAR2'], dtype=object)"
      ]
     },
     "execution_count": 67,
     "metadata": {},
     "output_type": "execute_result"
    }
   ],
   "source": [
    "concatenated_df.ProductType.unique()"
   ]
  },
  {
   "cell_type": "code",
   "execution_count": 68,
   "metadata": {},
   "outputs": [],
   "source": [
    "#Adding a month column from reporting date\n",
    "concatenated_df['MonthNum']=pd.to_datetime(concatenated_df.ReportingDate, format=\"%d/%m/%Y\").dt.month\n",
    "concatenated_df['Month'] = pd.to_datetime(concatenated_df['MonthNum'], format='%m').dt.month_name().str.slice(stop=3)"
   ]
  },
  {
   "cell_type": "code",
   "execution_count": 69,
   "metadata": {},
   "outputs": [],
   "source": [
    "#Adding a year column frpm trade date\n",
    "concatenated_df['Year']=pd.to_datetime(concatenated_df.TradeDate, format=\"%d/%m/%Y\").dt.year"
   ]
  },
  {
   "cell_type": "markdown",
   "metadata": {},
   "source": [
    "## Assumptions of Attributes\n",
    "1. Reporting Date\n",
    "    - Date of CNR from 02/01/2019 t0 28/06/2019\n",
    "2. Report Type\n",
    "    - All values are CNR i.e. all records in the dataset are cancel and reissue records\n",
    "3. Aging Day\n",
    "    - The number of days the CNR invoice is outstanding\n",
    "    - Since all values in this column is < 30 , all CNRs are current\n",
    "4. LatestTradeReason\n",
    "    - The errors leading to a CNR - categorical\n",
    "5. InstrumentName\n",
    "    - The various instruments of the Product Type - categorical\n",
    "6. Family Group and Type\n",
    "    - The different combinations of Family Group and Type will make up a product type\n",
    "    - There is a hierarchy from family to group to type - categorical\n",
    "7. TradeDate\n",
    "    - Date purchase of the Product Type\n",
    "8. EventAging\n",
    "    - Event Aging increases as the TradeDate gets older\n",
    "    - Assume that the number of days has no significance on the CNR or the performance of the dealer\n",
    "      issueing the CNR or selling the product type \n",
    "9. Portfolio\n",
    "    - A collection of product types - categorical"
   ]
  },
  {
   "cell_type": "markdown",
   "metadata": {},
   "source": [
    "## Handling of Missing Data - Imputation of Data\n",
    "1. There is missing data in the LatestTradeReason  column, since the mode of the categorical data is OTH, all missing data in this column is imputed with OTH\n",
    "2. There is missing data in the Type column. Upon checking the corresponding values of Family and Group for all rows that have NULL values in Type, it seems that the corresponding ProductType does not have a type and the NULL values is not an error and so the NULL values were left as NULL. The product types that have a NULL type and the product types that have a Type value are mutually exclusive\n",
    "3. There are 10 missing TraderId_Insert values. Since there are only 10 records missing and there are over 19K records, these rows were dropped as it will not impact the analysis as 10 records are deemed as insignificant."
   ]
  },
  {
   "cell_type": "markdown",
   "metadata": {},
   "source": [
    "## New Columns Added and Rows Removed\n",
    "1. Add a Month and MonthNum column so that monthly analysis can be performed \n",
    "2. Added a ProductType column which is the concatenation of Family, Group (and Type) to give 26 distinct product types"
   ]
  },
  {
   "cell_type": "code",
   "execution_count": 70,
   "metadata": {},
   "outputs": [
    {
     "data": {
      "text/html": [
       "<div>\n",
       "<style scoped>\n",
       "    .dataframe tbody tr th:only-of-type {\n",
       "        vertical-align: middle;\n",
       "    }\n",
       "\n",
       "    .dataframe tbody tr th {\n",
       "        vertical-align: top;\n",
       "    }\n",
       "\n",
       "    .dataframe thead th {\n",
       "        text-align: right;\n",
       "    }\n",
       "</style>\n",
       "<table border=\"1\" class=\"dataframe\">\n",
       "  <thead>\n",
       "    <tr style=\"text-align: right;\">\n",
       "      <th></th>\n",
       "      <th>0</th>\n",
       "    </tr>\n",
       "  </thead>\n",
       "  <tbody>\n",
       "    <tr>\n",
       "      <th>ReportingDate</th>\n",
       "      <td>02/01/2019</td>\n",
       "    </tr>\n",
       "    <tr>\n",
       "      <th>ReportType</th>\n",
       "      <td>CNR</td>\n",
       "    </tr>\n",
       "    <tr>\n",
       "      <th>AgingDay</th>\n",
       "      <td>2</td>\n",
       "    </tr>\n",
       "    <tr>\n",
       "      <th>LatestTradeReason</th>\n",
       "      <td>OWN</td>\n",
       "    </tr>\n",
       "    <tr>\n",
       "      <th>TraderId_Insert</th>\n",
       "      <td>T_44</td>\n",
       "    </tr>\n",
       "    <tr>\n",
       "      <th>InstrumentName</th>\n",
       "      <td>HKD DEPOSIT</td>\n",
       "    </tr>\n",
       "    <tr>\n",
       "      <th>Family</th>\n",
       "      <td>IRD</td>\n",
       "    </tr>\n",
       "    <tr>\n",
       "      <th>Group</th>\n",
       "      <td>LN_BR</td>\n",
       "    </tr>\n",
       "    <tr>\n",
       "      <th>Type</th>\n",
       "      <td>NaN</td>\n",
       "    </tr>\n",
       "    <tr>\n",
       "      <th>TradeDate</th>\n",
       "      <td>02/01/2019</td>\n",
       "    </tr>\n",
       "    <tr>\n",
       "      <th>EventAging</th>\n",
       "      <td>0</td>\n",
       "    </tr>\n",
       "    <tr>\n",
       "      <th>Portfolio</th>\n",
       "      <td>CRD IDBO A_SG</td>\n",
       "    </tr>\n",
       "    <tr>\n",
       "      <th>ProductType</th>\n",
       "      <td>IRD_LN_BR</td>\n",
       "    </tr>\n",
       "    <tr>\n",
       "      <th>MonthNum</th>\n",
       "      <td>1</td>\n",
       "    </tr>\n",
       "    <tr>\n",
       "      <th>Month</th>\n",
       "      <td>Jan</td>\n",
       "    </tr>\n",
       "    <tr>\n",
       "      <th>Year</th>\n",
       "      <td>2019</td>\n",
       "    </tr>\n",
       "  </tbody>\n",
       "</table>\n",
       "</div>"
      ],
      "text/plain": [
       "                               0\n",
       "ReportingDate         02/01/2019\n",
       "ReportType                   CNR\n",
       "AgingDay                       2\n",
       "LatestTradeReason            OWN\n",
       "TraderId_Insert             T_44\n",
       "InstrumentName       HKD DEPOSIT\n",
       "Family                       IRD\n",
       "Group                      LN_BR\n",
       "Type                         NaN\n",
       "TradeDate             02/01/2019\n",
       "EventAging                     0\n",
       "Portfolio          CRD IDBO A_SG\n",
       "ProductType            IRD_LN_BR\n",
       "MonthNum                       1\n",
       "Month                        Jan\n",
       "Year                        2019"
      ]
     },
     "execution_count": 70,
     "metadata": {},
     "output_type": "execute_result"
    }
   ],
   "source": [
    "concatenated_df.head(1).T"
   ]
  },
  {
   "cell_type": "markdown",
   "metadata": {},
   "source": [
    "## EDA"
   ]
  },
  {
   "cell_type": "code",
   "execution_count": 71,
   "metadata": {},
   "outputs": [
    {
     "data": {
      "text/plain": [
       "OTH      15220\n",
       "OWN       3675\n",
       "BO         109\n",
       "OWNBO       13\n",
       "Name: LatestTradeReason, dtype: int64"
      ]
     },
     "execution_count": 71,
     "metadata": {},
     "output_type": "execute_result"
    }
   ],
   "source": [
    "#Number of CNR\n",
    "concatenated_df['LatestTradeReason'].value_counts()"
   ]
  },
  {
   "cell_type": "markdown",
   "metadata": {},
   "source": [
    "####  Most of the error type is OTH"
   ]
  },
  {
   "cell_type": "code",
   "execution_count": 72,
   "metadata": {},
   "outputs": [
    {
     "data": {
      "text/html": [
       "<div>\n",
       "<style scoped>\n",
       "    .dataframe tbody tr th:only-of-type {\n",
       "        vertical-align: middle;\n",
       "    }\n",
       "\n",
       "    .dataframe tbody tr th {\n",
       "        vertical-align: top;\n",
       "    }\n",
       "\n",
       "    .dataframe thead th {\n",
       "        text-align: right;\n",
       "    }\n",
       "</style>\n",
       "<table border=\"1\" class=\"dataframe\">\n",
       "  <thead>\n",
       "    <tr style=\"text-align: right;\">\n",
       "      <th></th>\n",
       "      <th>MonthNum</th>\n",
       "      <th>LatestTradeReason</th>\n",
       "      <th>count</th>\n",
       "    </tr>\n",
       "  </thead>\n",
       "  <tbody>\n",
       "    <tr>\n",
       "      <th>0</th>\n",
       "      <td>1</td>\n",
       "      <td>BO</td>\n",
       "      <td>22</td>\n",
       "    </tr>\n",
       "    <tr>\n",
       "      <th>1</th>\n",
       "      <td>1</td>\n",
       "      <td>OTH</td>\n",
       "      <td>2059</td>\n",
       "    </tr>\n",
       "    <tr>\n",
       "      <th>2</th>\n",
       "      <td>1</td>\n",
       "      <td>OWN</td>\n",
       "      <td>617</td>\n",
       "    </tr>\n",
       "    <tr>\n",
       "      <th>3</th>\n",
       "      <td>1</td>\n",
       "      <td>OWNBO</td>\n",
       "      <td>6</td>\n",
       "    </tr>\n",
       "    <tr>\n",
       "      <th>4</th>\n",
       "      <td>2</td>\n",
       "      <td>BO</td>\n",
       "      <td>31</td>\n",
       "    </tr>\n",
       "    <tr>\n",
       "      <th>5</th>\n",
       "      <td>2</td>\n",
       "      <td>OTH</td>\n",
       "      <td>3062</td>\n",
       "    </tr>\n",
       "    <tr>\n",
       "      <th>6</th>\n",
       "      <td>2</td>\n",
       "      <td>OWN</td>\n",
       "      <td>624</td>\n",
       "    </tr>\n",
       "    <tr>\n",
       "      <th>7</th>\n",
       "      <td>2</td>\n",
       "      <td>OWNBO</td>\n",
       "      <td>1</td>\n",
       "    </tr>\n",
       "    <tr>\n",
       "      <th>9</th>\n",
       "      <td>3</td>\n",
       "      <td>OTH</td>\n",
       "      <td>2857</td>\n",
       "    </tr>\n",
       "    <tr>\n",
       "      <th>10</th>\n",
       "      <td>3</td>\n",
       "      <td>OWN</td>\n",
       "      <td>704</td>\n",
       "    </tr>\n",
       "    <tr>\n",
       "      <th>8</th>\n",
       "      <td>3</td>\n",
       "      <td>BO</td>\n",
       "      <td>18</td>\n",
       "    </tr>\n",
       "    <tr>\n",
       "      <th>11</th>\n",
       "      <td>4</td>\n",
       "      <td>BO</td>\n",
       "      <td>13</td>\n",
       "    </tr>\n",
       "    <tr>\n",
       "      <th>12</th>\n",
       "      <td>4</td>\n",
       "      <td>OTH</td>\n",
       "      <td>2721</td>\n",
       "    </tr>\n",
       "    <tr>\n",
       "      <th>13</th>\n",
       "      <td>4</td>\n",
       "      <td>OWN</td>\n",
       "      <td>640</td>\n",
       "    </tr>\n",
       "    <tr>\n",
       "      <th>14</th>\n",
       "      <td>4</td>\n",
       "      <td>OWNBO</td>\n",
       "      <td>5</td>\n",
       "    </tr>\n",
       "    <tr>\n",
       "      <th>15</th>\n",
       "      <td>5</td>\n",
       "      <td>BO</td>\n",
       "      <td>7</td>\n",
       "    </tr>\n",
       "    <tr>\n",
       "      <th>16</th>\n",
       "      <td>5</td>\n",
       "      <td>OTH</td>\n",
       "      <td>2661</td>\n",
       "    </tr>\n",
       "    <tr>\n",
       "      <th>17</th>\n",
       "      <td>5</td>\n",
       "      <td>OWN</td>\n",
       "      <td>511</td>\n",
       "    </tr>\n",
       "    <tr>\n",
       "      <th>18</th>\n",
       "      <td>5</td>\n",
       "      <td>OWNBO</td>\n",
       "      <td>1</td>\n",
       "    </tr>\n",
       "    <tr>\n",
       "      <th>20</th>\n",
       "      <td>6</td>\n",
       "      <td>OTH</td>\n",
       "      <td>1860</td>\n",
       "    </tr>\n",
       "    <tr>\n",
       "      <th>19</th>\n",
       "      <td>6</td>\n",
       "      <td>BO</td>\n",
       "      <td>18</td>\n",
       "    </tr>\n",
       "    <tr>\n",
       "      <th>21</th>\n",
       "      <td>6</td>\n",
       "      <td>OWN</td>\n",
       "      <td>579</td>\n",
       "    </tr>\n",
       "  </tbody>\n",
       "</table>\n",
       "</div>"
      ],
      "text/plain": [
       "    MonthNum LatestTradeReason  count\n",
       "0          1                BO     22\n",
       "1          1               OTH   2059\n",
       "2          1               OWN    617\n",
       "3          1             OWNBO      6\n",
       "4          2                BO     31\n",
       "5          2               OTH   3062\n",
       "6          2               OWN    624\n",
       "7          2             OWNBO      1\n",
       "9          3               OTH   2857\n",
       "10         3               OWN    704\n",
       "8          3                BO     18\n",
       "11         4                BO     13\n",
       "12         4               OTH   2721\n",
       "13         4               OWN    640\n",
       "14         4             OWNBO      5\n",
       "15         5                BO      7\n",
       "16         5               OTH   2661\n",
       "17         5               OWN    511\n",
       "18         5             OWNBO      1\n",
       "20         6               OTH   1860\n",
       "19         6                BO     18\n",
       "21         6               OWN    579"
      ]
     },
     "execution_count": 72,
     "metadata": {},
     "output_type": "execute_result"
    }
   ],
   "source": [
    "#Number of CNR  per error type per month\n",
    "df = concatenated_df.groupby(['MonthNum','LatestTradeReason'])['ReportType'].count() \\\n",
    "                             .reset_index(name='count') \\\n",
    "                             .sort_values(['MonthNum'], ascending=True)\n",
    "df"
   ]
  },
  {
   "cell_type": "code",
   "execution_count": 73,
   "metadata": {},
   "outputs": [
    {
     "data": {
      "text/html": [
       "<div>\n",
       "<style scoped>\n",
       "    .dataframe tbody tr th:only-of-type {\n",
       "        vertical-align: middle;\n",
       "    }\n",
       "\n",
       "    .dataframe tbody tr th {\n",
       "        vertical-align: top;\n",
       "    }\n",
       "\n",
       "    .dataframe thead th {\n",
       "        text-align: right;\n",
       "    }\n",
       "</style>\n",
       "<table border=\"1\" class=\"dataframe\">\n",
       "  <thead>\n",
       "    <tr style=\"text-align: right;\">\n",
       "      <th></th>\n",
       "      <th>MonthNum</th>\n",
       "    </tr>\n",
       "  </thead>\n",
       "  <tbody>\n",
       "    <tr>\n",
       "      <th>2</th>\n",
       "      <td>0.195509</td>\n",
       "    </tr>\n",
       "    <tr>\n",
       "      <th>3</th>\n",
       "      <td>0.188200</td>\n",
       "    </tr>\n",
       "    <tr>\n",
       "      <th>4</th>\n",
       "      <td>0.177683</td>\n",
       "    </tr>\n",
       "    <tr>\n",
       "      <th>5</th>\n",
       "      <td>0.167219</td>\n",
       "    </tr>\n",
       "    <tr>\n",
       "      <th>1</th>\n",
       "      <td>0.142189</td>\n",
       "    </tr>\n",
       "    <tr>\n",
       "      <th>6</th>\n",
       "      <td>0.129200</td>\n",
       "    </tr>\n",
       "  </tbody>\n",
       "</table>\n",
       "</div>"
      ],
      "text/plain": [
       "   MonthNum\n",
       "2  0.195509\n",
       "3  0.188200\n",
       "4  0.177683\n",
       "5  0.167219\n",
       "1  0.142189\n",
       "6  0.129200"
      ]
     },
     "execution_count": 73,
     "metadata": {},
     "output_type": "execute_result"
    }
   ],
   "source": [
    "#Find the % of CNR per month\n",
    "concatenated_df.filter(like='MonthNum').apply(pd.value_counts, normalize=True)"
   ]
  },
  {
   "cell_type": "code",
   "execution_count": 74,
   "metadata": {},
   "outputs": [
    {
     "data": {
      "text/html": [
       "<div>\n",
       "<style scoped>\n",
       "    .dataframe tbody tr th:only-of-type {\n",
       "        vertical-align: middle;\n",
       "    }\n",
       "\n",
       "    .dataframe tbody tr th {\n",
       "        vertical-align: top;\n",
       "    }\n",
       "\n",
       "    .dataframe thead th {\n",
       "        text-align: right;\n",
       "    }\n",
       "</style>\n",
       "<table border=\"1\" class=\"dataframe\">\n",
       "  <thead>\n",
       "    <tr style=\"text-align: right;\">\n",
       "      <th></th>\n",
       "      <th>MonthNum</th>\n",
       "    </tr>\n",
       "  </thead>\n",
       "  <tbody>\n",
       "    <tr>\n",
       "      <th>2</th>\n",
       "      <td>3718</td>\n",
       "    </tr>\n",
       "    <tr>\n",
       "      <th>3</th>\n",
       "      <td>3579</td>\n",
       "    </tr>\n",
       "    <tr>\n",
       "      <th>4</th>\n",
       "      <td>3379</td>\n",
       "    </tr>\n",
       "    <tr>\n",
       "      <th>5</th>\n",
       "      <td>3180</td>\n",
       "    </tr>\n",
       "    <tr>\n",
       "      <th>1</th>\n",
       "      <td>2704</td>\n",
       "    </tr>\n",
       "    <tr>\n",
       "      <th>6</th>\n",
       "      <td>2457</td>\n",
       "    </tr>\n",
       "  </tbody>\n",
       "</table>\n",
       "</div>"
      ],
      "text/plain": [
       "   MonthNum\n",
       "2      3718\n",
       "3      3579\n",
       "4      3379\n",
       "5      3180\n",
       "1      2704\n",
       "6      2457"
      ]
     },
     "execution_count": 74,
     "metadata": {},
     "output_type": "execute_result"
    }
   ],
   "source": [
    "#Number of CNR per month\n",
    "concatenated_df.filter(like='MonthNum').apply(pd.value_counts)"
   ]
  },
  {
   "cell_type": "markdown",
   "metadata": {},
   "source": [
    "#### The number of CNRs from Jan 2019 to June 2019 are not significantly different "
   ]
  },
  {
   "cell_type": "code",
   "execution_count": 75,
   "metadata": {},
   "outputs": [
    {
     "name": "stdout",
     "output_type": "stream",
     "text": [
      "ProductType\n",
      "IRD_LN_BR         4538\n",
      "CURR_FXD_FXD      3419\n",
      "IRD_IRS           2109\n",
      "CURR_FXD_SWLEG    1744\n",
      "CURR_OPT_BAR      1546\n",
      "IRD_BOND          1201\n",
      "IRD_REPO_REPO      936\n",
      "IRD_CS             672\n",
      "EQD_OPT_FLEX       646\n",
      "CURR_OPT_SMP       345\n",
      "SCF_SCF_SCF        340\n",
      "EQD_EQUIT          240\n",
      "EQD_REPO_REPO      237\n",
      "CURR_OPT_FLEX      226\n",
      "EQD_EQS            203\n",
      "EQD_OPT_OTC        178\n",
      "EQD_FUT            130\n",
      "IRD_CF              63\n",
      "CURR_OPT_RBT        53\n",
      "COM_SWAP            43\n",
      "EQD_OPT_ORG         36\n",
      "IRD_LFUT            34\n",
      "CURR_OPT_BAR2       27\n",
      "EQD_OPT_BAR         26\n",
      "COM_FUT             19\n",
      "IRD_SFUT             6\n",
      "Name: ReportType, dtype: int64\n"
     ]
    }
   ],
   "source": [
    "#Number of CNR per product type\n",
    "print(concatenated_df.groupby('ProductType')['ReportType'].count().sort_values(ascending=False))"
   ]
  },
  {
   "cell_type": "markdown",
   "metadata": {},
   "source": [
    "#### There are some product types that have many more CNRs than others"
   ]
  },
  {
   "cell_type": "code",
   "execution_count": 76,
   "metadata": {},
   "outputs": [
    {
     "name": "stdout",
     "output_type": "stream",
     "text": [
      "Month  ProductType  \n",
      "Feb    IRD_LN_BR        1517\n",
      "Mar    CURR_FXD_FXD      820\n",
      "Feb    CURR_OPT_BAR      791\n",
      "May    CURR_FXD_FXD      769\n",
      "Apr    IRD_LN_BR         715\n",
      "                        ... \n",
      "Jan    IRD_SFUT            1\n",
      "       EQD_OPT_BAR         1\n",
      "Feb    EQD_OPT_ORG         1\n",
      "       CURR_OPT_BAR2       1\n",
      "Jun    COM_FUT             1\n",
      "Name: ReportType, Length: 151, dtype: int64\n"
     ]
    }
   ],
   "source": [
    "#Number of CNR per month per product type\n",
    "print(concatenated_df.groupby(['Month','ProductType'])['ReportType'].count().sort_values(ascending=False))"
   ]
  },
  {
   "cell_type": "markdown",
   "metadata": {},
   "source": [
    "#### There is a large difference in the number of CNRs of product types for each month . Some product types perform significantly better than others"
   ]
  },
  {
   "cell_type": "code",
   "execution_count": 77,
   "metadata": {},
   "outputs": [
    {
     "name": "stdout",
     "output_type": "stream",
     "text": [
      "Month  TraderId_Insert\n",
      "Mar    T_3                707\n",
      "Jan    T_3                620\n",
      "Mar    T_16               617\n",
      "Feb    T_3                524\n",
      "Apr    T_3                524\n",
      "                         ... \n",
      "Jun    T_185                1\n",
      "May    T_186                1\n",
      "Jun    T_186                1\n",
      "       T_188                1\n",
      "Mar    T_100                1\n",
      "Name: ProductType, Length: 757, dtype: int64\n"
     ]
    }
   ],
   "source": [
    "#Number of CNR per month per dealer\n",
    "print(concatenated_df.groupby(['Month','TraderId_Insert'])['ProductType'].count().sort_values(ascending=False))"
   ]
  },
  {
   "cell_type": "markdown",
   "metadata": {},
   "source": [
    "#### Some dealers issue significantly more CNRs than others and T_3 and T_16 seems to be the top 2 dealers"
   ]
  },
  {
   "cell_type": "code",
   "execution_count": 78,
   "metadata": {},
   "outputs": [
    {
     "name": "stdout",
     "output_type": "stream",
     "text": [
      "TraderId_Insert\n",
      "T_3      3175\n",
      "T_16     1820\n",
      "T_5      1136\n",
      "T_8      1070\n",
      "T_27      671\n",
      "         ... \n",
      "T_185       1\n",
      "T_202       1\n",
      "T_203       1\n",
      "T_176       1\n",
      "T_190       1\n",
      "Name: ProductType, Length: 204, dtype: int64\n"
     ]
    }
   ],
   "source": [
    "#Number of CNR per dealer over the 6 month period\n",
    "print(concatenated_df.groupby('TraderId_Insert')['ProductType'].count().sort_values(ascending=False))"
   ]
  },
  {
   "cell_type": "code",
   "execution_count": 79,
   "metadata": {
    "scrolled": true
   },
   "outputs": [
    {
     "name": "stdout",
     "output_type": "stream",
     "text": [
      "Month  Portfolio     \n",
      "Mar    TRS A_SG CRD      124\n",
      "       CRD A_SG TRS      112\n",
      "May    A_SG CRD TRS      107\n",
      "       TRS CRD A_SG      104\n",
      "       TRS A_SG CRD      102\n",
      "                        ... \n",
      "Jun    A_SG FX OP DIG      1\n",
      "       A_SG FX OP JP1      1\n",
      "       A_SG FX OP PVT      1\n",
      "Apr    JTBC MGT A_SG       1\n",
      "Jan    OP A_SG AU1 FX      1\n",
      "Name: ReportType, Length: 4614, dtype: int64\n"
     ]
    }
   ],
   "source": [
    "#Number of Portfolios cancelled and reissued per month\n",
    "print(concatenated_df.groupby(['Month','Portfolio'])['ReportType'].count().sort_values(ascending=False))"
   ]
  },
  {
   "cell_type": "markdown",
   "metadata": {},
   "source": [
    "#### Some portfolios perform significantly better than others monthly"
   ]
  },
  {
   "cell_type": "code",
   "execution_count": 80,
   "metadata": {},
   "outputs": [
    {
     "data": {
      "text/plain": [
       "array(['CRD IDBO A_SG', 'BEZ A_SG LDN', 'OP PVT A_SG FX', ...,\n",
       "       'SPOT ELT A_SG', 'G7 A_SG GAP', 'LDN A_SG QSH'], dtype=object)"
      ]
     },
     "execution_count": 80,
     "metadata": {},
     "output_type": "execute_result"
    }
   ],
   "source": [
    "#Number of Portfolios\n",
    "concatenated_df['Portfolio'].values"
   ]
  },
  {
   "cell_type": "code",
   "execution_count": 81,
   "metadata": {},
   "outputs": [
    {
     "data": {
      "text/plain": [
       "1820"
      ]
     },
     "execution_count": 81,
     "metadata": {},
     "output_type": "execute_result"
    }
   ],
   "source": [
    "#Number of Portfolios\n",
    "len(concatenated_df['Portfolio'].value_counts())"
   ]
  },
  {
   "cell_type": "markdown",
   "metadata": {},
   "source": [
    "#### There are 1820 different portfolios"
   ]
  },
  {
   "cell_type": "code",
   "execution_count": 82,
   "metadata": {},
   "outputs": [
    {
     "data": {
      "text/plain": [
       "TRS CRD A_SG      346\n",
       "TRS A_SG CRD      343\n",
       "A_SG CRD TRS      335\n",
       "CRD A_SG TRS      322\n",
       "A_SG TRS CRD      307\n",
       "                 ... \n",
       "BTB A_SG G7         1\n",
       "A_SG G7 CDCP        1\n",
       "HK2 EQU A_SG        1\n",
       "A_SG CAPHG BNK      1\n",
       "ACB A_SG BNK        1\n",
       "Name: Portfolio, Length: 1820, dtype: int64"
      ]
     },
     "execution_count": 82,
     "metadata": {},
     "output_type": "execute_result"
    }
   ],
   "source": [
    "concatenated_df['Portfolio'].value_counts()"
   ]
  },
  {
   "cell_type": "markdown",
   "metadata": {},
   "source": [
    "#### Some portfolios perform significantly better than others monthly"
   ]
  },
  {
   "cell_type": "code",
   "execution_count": 83,
   "metadata": {
    "scrolled": true
   },
   "outputs": [
    {
     "name": "stdout",
     "output_type": "stream",
     "text": [
      "TraderId_Insert\n",
      "T_3      941\n",
      "T_16     651\n",
      "T_5      514\n",
      "T_8      491\n",
      "T_27     364\n",
      "        ... \n",
      "T_199      1\n",
      "T_56       1\n",
      "T_202      1\n",
      "T_203      1\n",
      "T_190      1\n",
      "Name: Portfolio, Length: 204, dtype: int64\n"
     ]
    }
   ],
   "source": [
    "#Dealers and their Portfolios\n",
    "print(concatenated_df.groupby('TraderId_Insert')['Portfolio'].nunique().sort_values(ascending=False))"
   ]
  },
  {
   "cell_type": "markdown",
   "metadata": {},
   "source": [
    "#### Some dealers offer more unique portfolios than others and the dealers that offer more different portfolios also seem to be the dealers that issue more CNRs. T_3, T_16,  T_5,  T_8, T_27  are the top 5 dealers with the most portfolios and the most CNRs"
   ]
  },
  {
   "cell_type": "code",
   "execution_count": 84,
   "metadata": {},
   "outputs": [
    {
     "data": {
      "text/plain": [
       "TraderId_Insert\n",
       "T_3     3175\n",
       "T_16    1820\n",
       "T_5     1136\n",
       "T_8     1070\n",
       "T_27     671\n",
       "T_24     511\n",
       "T_53     465\n",
       "T_19     435\n",
       "T_66     419\n",
       "T_44     381\n",
       "dtype: int64"
      ]
     },
     "execution_count": 84,
     "metadata": {},
     "output_type": "execute_result"
    }
   ],
   "source": [
    "#Top 10 dealers\n",
    "tmp_df = concatenated_df.groupby('TraderId_Insert').size()\n",
    "tmp_df.nlargest(10).head(10)"
   ]
  },
  {
   "cell_type": "code",
   "execution_count": 85,
   "metadata": {},
   "outputs": [
    {
     "name": "stdout",
     "output_type": "stream",
     "text": [
      "TraderId_Insert\n",
      "T_179     1\n",
      "T_56      1\n",
      "T_193     1\n",
      "T_188     1\n",
      "T_198     1\n",
      "         ..\n",
      "T_119    22\n",
      "T_73     23\n",
      "T_151    25\n",
      "T_113    26\n",
      "T_14     26\n",
      "Length: 100, dtype: int64\n",
      "TraderId_Insert\n",
      "T_179      1\n",
      "T_56       1\n",
      "T_193      1\n",
      "T_188      1\n",
      "T_198      1\n",
      "        ... \n",
      "T_66     419\n",
      "T_19     435\n",
      "T_53     465\n",
      "T_24     511\n",
      "T_27     671\n",
      "Length: 200, dtype: int64\n"
     ]
    }
   ],
   "source": [
    "#Worst performing dealers\n",
    "a = concatenated_df.groupby('TraderId_Insert').size().sort_values(ascending=False)\n",
    "print(a.nsmallest(100))\n",
    "print(a.nsmallest(200))"
   ]
  },
  {
   "cell_type": "code",
   "execution_count": 86,
   "metadata": {},
   "outputs": [
    {
     "data": {
      "text/plain": [
       "array(['T_5', 'T_3', 'T_8', 'T_16'], dtype=object)"
      ]
     },
     "execution_count": 86,
     "metadata": {},
     "output_type": "execute_result"
    }
   ],
   "source": [
    "# Create a col dealerCNRCount to show the number of CNRs for that dealer\n",
    "concatenated_df['dealerCNRCount'] = concatenated_df.groupby('TraderId_Insert')['ReportType'].transform('count')\n",
    "#Dealers that have > 1000 CNRs\n",
    "concatenated_df.loc[concatenated_df['dealerCNRCount'] > 1000]['TraderId_Insert'].unique()"
   ]
  },
  {
   "cell_type": "code",
   "execution_count": 87,
   "metadata": {},
   "outputs": [
    {
     "data": {
      "text/plain": [
       "array(['T_5', 'T_3', 'T_8', 'T_27', 'T_24', 'T_16'], dtype=object)"
      ]
     },
     "execution_count": 87,
     "metadata": {},
     "output_type": "execute_result"
    }
   ],
   "source": [
    "#Dealers that have > 500 CNRs\n",
    "concatenated_df.loc[concatenated_df['dealerCNRCount'] > 500]['TraderId_Insert'].unique()"
   ]
  },
  {
   "cell_type": "code",
   "execution_count": 88,
   "metadata": {},
   "outputs": [
    {
     "name": "stdout",
     "output_type": "stream",
     "text": [
      "['T_93' 'T_47' 'T_102' 'T_11' 'T_78' 'T_63' 'T_52' 'T_65' 'T_26' 'T_123'\n",
      " 'T_2' 'T_42' 'T_86' 'T_124' 'T_50' 'T_17' 'T_58' 'T_132' 'T_40' 'T_18'\n",
      " 'T_49' 'T_115' 'T_135' 'T_21' 'T_36' 'T_77' 'T_37' 'T_10' 'T_54' 'T_101'\n",
      " 'T_41' 'T_125' 'T_48' 'T_12' 'T_0' 'T_79' 'T_38' 'T_25' 'T_43' 'T_30'\n",
      " 'T_94' 'T_83' 'T_57' 'T_103' 'T_69' 'T_92' 'T_28' 'T_120' 'T_4' 'T_68'\n",
      " 'T_163' 'T_112' 'T_108' 'T_7' 'T_20' 'T_128' 'T_45' 'T_164' 'T_74'\n",
      " 'T_161' 'T_84' 'T_22' 'T_95' 'T_31' 'T_155' 'T_96' 'T_127' 'T_91' 'T_64'\n",
      " 'T_9' 'T_165' 'T_13' 'T_88' 'T_90' 'T_110' 'T_59' 'T_166' 'T_113' 'T_60'\n",
      " 'T_167' 'T_32' 'T_117' 'T_29' 'T_34' 'T_168' 'T_105' 'T_169' 'T_140'\n",
      " 'T_122' 'T_61' 'T_130' 'T_89' 'T_82' 'T_170' 'T_46' 'T_111' 'T_87'\n",
      " 'T_119' 'T_35' 'T_154' 'T_156' 'T_153' 'T_171' 'T_172' 'T_173' 'T_116'\n",
      " 'T_107' 'T_174' 'T_175' 'T_70' 'T_33' 'T_176' 'T_131' 'T_99' 'T_126'\n",
      " 'T_121' 'T_62' 'T_23' 'T_81' 'T_97' 'T_100' 'T_73' 'T_129' 'T_51' 'T_85'\n",
      " 'T_14' 'T_133' 'T_134' 'T_136' 'T_55' 'T_137' 'T_72' 'T_138' 'T_139'\n",
      " 'T_114' 'T_76' 'T_141' 'T_142' 'T_143' 'T_144' 'T_145' 'T_146' 'T_147'\n",
      " 'T_148' 'T_149' 'T_150' 'T_151' 'T_152' 'T_104' 'T_109' 'T_157' 'T_158'\n",
      " 'T_159' 'T_160' 'T_71' 'T_162' 'T_190' 'T_191' 'T_192' 'T_98' 'T_193'\n",
      " 'T_194' 'T_6' 'T_195' 'T_196' 'T_15' 'T_197' 'T_198' 'T_199' 'T_80'\n",
      " 'T_75' 'T_106' 'T_39' 'T_56' 'T_67' 'T_118' 'T_200' 'T_201' 'T_177'\n",
      " 'T_180' 'T_178' 'T_186' 'T_202' 'T_203' 'T_179' 'T_181' 'T_182' 'T_183'\n",
      " 'T_184' 'T_185' 'T_187' 'T_188' 'T_189']\n",
      "193\n"
     ]
    }
   ],
   "source": [
    "#Dealers that have < 300 CNRs\n",
    "print(concatenated_df.loc[concatenated_df['dealerCNRCount'] < 300]['TraderId_Insert'].unique())\n",
    "print(len(concatenated_df.loc[concatenated_df['dealerCNRCount'] < 300]['TraderId_Insert'].unique()))"
   ]
  },
  {
   "cell_type": "markdown",
   "metadata": {},
   "source": [
    "#### There are a small number of dealers issueing a large number of CNRs. Out of 204 dealers, only 4 dealers have >1000 CNRs and 193 dealers have <300 CNRs. There are only a small number of high performing dealers"
   ]
  },
  {
   "cell_type": "code",
   "execution_count": 89,
   "metadata": {},
   "outputs": [
    {
     "data": {
      "text/plain": [
       "Portfolio\n",
       "TRS CRD A_SG    346\n",
       "TRS A_SG CRD    343\n",
       "A_SG CRD TRS    335\n",
       "CRD A_SG TRS    322\n",
       "A_SG TRS CRD    307\n",
       "CRD TRS A_SG    295\n",
       "SW A_SG ACU     223\n",
       "ACU SW A_SG     217\n",
       "A_SG SW ACU     211\n",
       "A_SG ACU SW     205\n",
       "dtype: int64"
      ]
     },
     "execution_count": 89,
     "metadata": {},
     "output_type": "execute_result"
    }
   ],
   "source": [
    "#Top 10 portfolios\n",
    "tmp_df = concatenated_df.groupby('Portfolio').size()\n",
    "tmp_df.nlargest(10).head(10)"
   ]
  },
  {
   "cell_type": "code",
   "execution_count": 90,
   "metadata": {},
   "outputs": [
    {
     "name": "stdout",
     "output_type": "stream",
     "text": [
      "Portfolio\n",
      "A_SG CRD HYBO     1\n",
      "CRD AFS1 A_SG     1\n",
      "CRD ABSSP A_SG    1\n",
      "A_SG CRD CMSH     1\n",
      "ECP1 A_SG CMU     1\n",
      "                 ..\n",
      "ORIGN FIO A_SG    4\n",
      "II IRD A_SG       4\n",
      "PBGSP A_SG CRD    4\n",
      "A_SG IBGTM REP    4\n",
      "A_SG STMBK CMU    4\n",
      "Length: 1000, dtype: int64\n",
      "Portfolio\n",
      "A_SG CRD HYBO      1\n",
      "CRD AFS1 A_SG      1\n",
      "CRD ABSSP A_SG     1\n",
      "A_SG CRD CMSH      1\n",
      "ECP1 A_SG CMU      1\n",
      "                  ..\n",
      "G7 REPO A_SG      39\n",
      "USST A_SG EQSG    40\n",
      "DOLSW A_SG AMM    40\n",
      "EXO A_SG OP FX    40\n",
      "RCT A_SG NDF      41\n",
      "Length: 1750, dtype: int64\n"
     ]
    }
   ],
   "source": [
    "#Worst performing portfolios\n",
    "a = concatenated_df.groupby('Portfolio').size().sort_values(ascending=False)\n",
    "print(a.nsmallest(1000))\n",
    "print(a.nsmallest(1750))"
   ]
  },
  {
   "cell_type": "code",
   "execution_count": 91,
   "metadata": {},
   "outputs": [
    {
     "data": {
      "text/plain": [
       "array(['TRS A_SG CRD', 'TRS CRD A_SG', 'A_SG CRD TRS', 'CRD A_SG TRS',\n",
       "       'A_SG TRS CRD'], dtype=object)"
      ]
     },
     "execution_count": 91,
     "metadata": {},
     "output_type": "execute_result"
    }
   ],
   "source": [
    "# Create a col portfolioCNRCount to show the number of CNRs for that portfolio\n",
    "concatenated_df['portfolioCNRCount'] = concatenated_df.groupby('Portfolio')['ReportType'].transform('count')\n",
    "#Dealers that have > 1000 CNRs\n",
    "concatenated_df.loc[concatenated_df['portfolioCNRCount'] > 300]['Portfolio'].unique()"
   ]
  },
  {
   "cell_type": "code",
   "execution_count": 92,
   "metadata": {},
   "outputs": [
    {
     "name": "stdout",
     "output_type": "stream",
     "text": [
      "['CRD IDBO A_SG' 'BEZ A_SG LDN' 'OP PVT A_SG FX' ... 'ADJ A_SG CTRL'\n",
      " 'A_SG TDG CSHSG' 'ACSEQ AMM A_SG']\n",
      "1794\n"
     ]
    }
   ],
   "source": [
    "#Portfolios that have < 100 CNRs\n",
    "print(concatenated_df.loc[concatenated_df['portfolioCNRCount'] < 100]['Portfolio'].unique())\n",
    "print(len(concatenated_df.loc[concatenated_df['portfolioCNRCount'] < 100]['Portfolio'].unique()))"
   ]
  },
  {
   "cell_type": "code",
   "execution_count": 93,
   "metadata": {},
   "outputs": [
    {
     "name": "stdout",
     "output_type": "stream",
     "text": [
      "['CRD IDBO A_SG' 'BEZ A_SG LDN' 'OP PVT A_SG FX' ... 'ADJ A_SG CTRL'\n",
      " 'A_SG TDG CSHSG' 'ACSEQ AMM A_SG']\n",
      "1772\n"
     ]
    }
   ],
   "source": [
    "#Portfolios that have < 50 CNRs\n",
    "print(concatenated_df.loc[concatenated_df['portfolioCNRCount'] < 50]['Portfolio'].unique())\n",
    "print(len(concatenated_df.loc[concatenated_df['portfolioCNRCount'] < 50]['Portfolio'].unique()))"
   ]
  },
  {
   "cell_type": "markdown",
   "metadata": {},
   "source": [
    "#### There are a small number of portfolios that have a large number of CNRs. Out of 1820 portfolios, only 5 portfolios have > 300 CNRs and 1794 portfolios have < 100 CNRs. There are only a small number of high performing portfolios."
   ]
  },
  {
   "cell_type": "code",
   "execution_count": 94,
   "metadata": {},
   "outputs": [
    {
     "name": "stdout",
     "output_type": "stream",
     "text": [
      "TraderId_Insert\n",
      "T_27     156\n",
      "T_30     114\n",
      "T_24     107\n",
      "T_3       99\n",
      "T_0       70\n",
      "        ... \n",
      "T_152      1\n",
      "T_150      1\n",
      "T_149      1\n",
      "T_147      1\n",
      "T_190      1\n",
      "Name: InstrumentName, Length: 204, dtype: int64\n"
     ]
    }
   ],
   "source": [
    "#Dealers and Instruments\n",
    "print(concatenated_df.groupby(['TraderId_Insert'])['InstrumentName'].nunique().sort_values(ascending=False))"
   ]
  },
  {
   "cell_type": "code",
   "execution_count": 95,
   "metadata": {},
   "outputs": [
    {
     "data": {
      "text/html": [
       "<div>\n",
       "<style scoped>\n",
       "    .dataframe tbody tr th:only-of-type {\n",
       "        vertical-align: middle;\n",
       "    }\n",
       "\n",
       "    .dataframe tbody tr th {\n",
       "        vertical-align: top;\n",
       "    }\n",
       "\n",
       "    .dataframe thead th {\n",
       "        text-align: right;\n",
       "    }\n",
       "</style>\n",
       "<table border=\"1\" class=\"dataframe\">\n",
       "  <thead>\n",
       "    <tr style=\"text-align: right;\">\n",
       "      <th>Group</th>\n",
       "      <th>BOND</th>\n",
       "      <th>CF</th>\n",
       "      <th>CS</th>\n",
       "      <th>EQS</th>\n",
       "      <th>EQUIT</th>\n",
       "      <th>FUT</th>\n",
       "      <th>FXD</th>\n",
       "      <th>IRS</th>\n",
       "      <th>LFUT</th>\n",
       "      <th>LN_BR</th>\n",
       "      <th>OPT</th>\n",
       "      <th>REPO</th>\n",
       "      <th>SCF</th>\n",
       "      <th>SFUT</th>\n",
       "      <th>SWAP</th>\n",
       "    </tr>\n",
       "    <tr>\n",
       "      <th>Family</th>\n",
       "      <th></th>\n",
       "      <th></th>\n",
       "      <th></th>\n",
       "      <th></th>\n",
       "      <th></th>\n",
       "      <th></th>\n",
       "      <th></th>\n",
       "      <th></th>\n",
       "      <th></th>\n",
       "      <th></th>\n",
       "      <th></th>\n",
       "      <th></th>\n",
       "      <th></th>\n",
       "      <th></th>\n",
       "      <th></th>\n",
       "    </tr>\n",
       "  </thead>\n",
       "  <tbody>\n",
       "    <tr>\n",
       "      <th>COM</th>\n",
       "      <td>0.0</td>\n",
       "      <td>0.0</td>\n",
       "      <td>0.0</td>\n",
       "      <td>0.0</td>\n",
       "      <td>0.0</td>\n",
       "      <td>19.0</td>\n",
       "      <td>0.0</td>\n",
       "      <td>0.0</td>\n",
       "      <td>0.0</td>\n",
       "      <td>0.0</td>\n",
       "      <td>0.0</td>\n",
       "      <td>0.0</td>\n",
       "      <td>0.0</td>\n",
       "      <td>0.0</td>\n",
       "      <td>43.0</td>\n",
       "    </tr>\n",
       "    <tr>\n",
       "      <th>CURR</th>\n",
       "      <td>0.0</td>\n",
       "      <td>0.0</td>\n",
       "      <td>0.0</td>\n",
       "      <td>0.0</td>\n",
       "      <td>0.0</td>\n",
       "      <td>0.0</td>\n",
       "      <td>5163.0</td>\n",
       "      <td>0.0</td>\n",
       "      <td>0.0</td>\n",
       "      <td>0.0</td>\n",
       "      <td>2197.0</td>\n",
       "      <td>0.0</td>\n",
       "      <td>0.0</td>\n",
       "      <td>0.0</td>\n",
       "      <td>0.0</td>\n",
       "    </tr>\n",
       "    <tr>\n",
       "      <th>EQD</th>\n",
       "      <td>0.0</td>\n",
       "      <td>0.0</td>\n",
       "      <td>0.0</td>\n",
       "      <td>203.0</td>\n",
       "      <td>240.0</td>\n",
       "      <td>130.0</td>\n",
       "      <td>0.0</td>\n",
       "      <td>0.0</td>\n",
       "      <td>0.0</td>\n",
       "      <td>0.0</td>\n",
       "      <td>886.0</td>\n",
       "      <td>237.0</td>\n",
       "      <td>0.0</td>\n",
       "      <td>0.0</td>\n",
       "      <td>0.0</td>\n",
       "    </tr>\n",
       "    <tr>\n",
       "      <th>IRD</th>\n",
       "      <td>1201.0</td>\n",
       "      <td>63.0</td>\n",
       "      <td>672.0</td>\n",
       "      <td>0.0</td>\n",
       "      <td>0.0</td>\n",
       "      <td>0.0</td>\n",
       "      <td>0.0</td>\n",
       "      <td>2109.0</td>\n",
       "      <td>34.0</td>\n",
       "      <td>4538.0</td>\n",
       "      <td>0.0</td>\n",
       "      <td>936.0</td>\n",
       "      <td>0.0</td>\n",
       "      <td>6.0</td>\n",
       "      <td>0.0</td>\n",
       "    </tr>\n",
       "    <tr>\n",
       "      <th>SCF</th>\n",
       "      <td>0.0</td>\n",
       "      <td>0.0</td>\n",
       "      <td>0.0</td>\n",
       "      <td>0.0</td>\n",
       "      <td>0.0</td>\n",
       "      <td>0.0</td>\n",
       "      <td>0.0</td>\n",
       "      <td>0.0</td>\n",
       "      <td>0.0</td>\n",
       "      <td>0.0</td>\n",
       "      <td>0.0</td>\n",
       "      <td>0.0</td>\n",
       "      <td>340.0</td>\n",
       "      <td>0.0</td>\n",
       "      <td>0.0</td>\n",
       "    </tr>\n",
       "  </tbody>\n",
       "</table>\n",
       "</div>"
      ],
      "text/plain": [
       "Group     BOND    CF     CS    EQS  EQUIT    FUT     FXD     IRS  LFUT  \\\n",
       "Family                                                                   \n",
       "COM        0.0   0.0    0.0    0.0    0.0   19.0     0.0     0.0   0.0   \n",
       "CURR       0.0   0.0    0.0    0.0    0.0    0.0  5163.0     0.0   0.0   \n",
       "EQD        0.0   0.0    0.0  203.0  240.0  130.0     0.0     0.0   0.0   \n",
       "IRD     1201.0  63.0  672.0    0.0    0.0    0.0     0.0  2109.0  34.0   \n",
       "SCF        0.0   0.0    0.0    0.0    0.0    0.0     0.0     0.0   0.0   \n",
       "\n",
       "Group    LN_BR     OPT   REPO    SCF  SFUT  SWAP  \n",
       "Family                                            \n",
       "COM        0.0     0.0    0.0    0.0   0.0  43.0  \n",
       "CURR       0.0  2197.0    0.0    0.0   0.0   0.0  \n",
       "EQD        0.0   886.0  237.0    0.0   0.0   0.0  \n",
       "IRD     4538.0     0.0  936.0    0.0   6.0   0.0  \n",
       "SCF        0.0     0.0    0.0  340.0   0.0   0.0  "
      ]
     },
     "execution_count": 95,
     "metadata": {},
     "output_type": "execute_result"
    }
   ],
   "source": [
    "#check the relationship for each family and group\n",
    "concatenated_df.groupby(['Family', 'Group'])\\\n",
    "  .apply(lambda x : x.count())\\\n",
    "  .iloc[:,0]\\\n",
    "  .unstack()\\\n",
    "  .fillna(0)"
   ]
  },
  {
   "cell_type": "code",
   "execution_count": 96,
   "metadata": {},
   "outputs": [
    {
     "data": {
      "text/html": [
       "<div>\n",
       "<style scoped>\n",
       "    .dataframe tbody tr th:only-of-type {\n",
       "        vertical-align: middle;\n",
       "    }\n",
       "\n",
       "    .dataframe tbody tr th {\n",
       "        vertical-align: top;\n",
       "    }\n",
       "\n",
       "    .dataframe thead th {\n",
       "        text-align: right;\n",
       "    }\n",
       "</style>\n",
       "<table border=\"1\" class=\"dataframe\">\n",
       "  <thead>\n",
       "    <tr style=\"text-align: right;\">\n",
       "      <th>Type</th>\n",
       "      <th>BAR</th>\n",
       "      <th>BAR2</th>\n",
       "      <th>FLEX</th>\n",
       "      <th>FXD</th>\n",
       "      <th>ORG</th>\n",
       "      <th>OTC</th>\n",
       "      <th>RBT</th>\n",
       "      <th>REPO</th>\n",
       "      <th>SCF</th>\n",
       "      <th>SMP</th>\n",
       "      <th>SWLEG</th>\n",
       "    </tr>\n",
       "    <tr>\n",
       "      <th>Family</th>\n",
       "      <th></th>\n",
       "      <th></th>\n",
       "      <th></th>\n",
       "      <th></th>\n",
       "      <th></th>\n",
       "      <th></th>\n",
       "      <th></th>\n",
       "      <th></th>\n",
       "      <th></th>\n",
       "      <th></th>\n",
       "      <th></th>\n",
       "    </tr>\n",
       "  </thead>\n",
       "  <tbody>\n",
       "    <tr>\n",
       "      <th>CURR</th>\n",
       "      <td>1546.0</td>\n",
       "      <td>27.0</td>\n",
       "      <td>226.0</td>\n",
       "      <td>3419.0</td>\n",
       "      <td>0.0</td>\n",
       "      <td>0.0</td>\n",
       "      <td>53.0</td>\n",
       "      <td>0.0</td>\n",
       "      <td>0.0</td>\n",
       "      <td>345.0</td>\n",
       "      <td>1744.0</td>\n",
       "    </tr>\n",
       "    <tr>\n",
       "      <th>EQD</th>\n",
       "      <td>26.0</td>\n",
       "      <td>0.0</td>\n",
       "      <td>646.0</td>\n",
       "      <td>0.0</td>\n",
       "      <td>36.0</td>\n",
       "      <td>178.0</td>\n",
       "      <td>0.0</td>\n",
       "      <td>237.0</td>\n",
       "      <td>0.0</td>\n",
       "      <td>0.0</td>\n",
       "      <td>0.0</td>\n",
       "    </tr>\n",
       "    <tr>\n",
       "      <th>IRD</th>\n",
       "      <td>0.0</td>\n",
       "      <td>0.0</td>\n",
       "      <td>0.0</td>\n",
       "      <td>0.0</td>\n",
       "      <td>0.0</td>\n",
       "      <td>0.0</td>\n",
       "      <td>0.0</td>\n",
       "      <td>936.0</td>\n",
       "      <td>0.0</td>\n",
       "      <td>0.0</td>\n",
       "      <td>0.0</td>\n",
       "    </tr>\n",
       "    <tr>\n",
       "      <th>SCF</th>\n",
       "      <td>0.0</td>\n",
       "      <td>0.0</td>\n",
       "      <td>0.0</td>\n",
       "      <td>0.0</td>\n",
       "      <td>0.0</td>\n",
       "      <td>0.0</td>\n",
       "      <td>0.0</td>\n",
       "      <td>0.0</td>\n",
       "      <td>340.0</td>\n",
       "      <td>0.0</td>\n",
       "      <td>0.0</td>\n",
       "    </tr>\n",
       "  </tbody>\n",
       "</table>\n",
       "</div>"
      ],
      "text/plain": [
       "Type       BAR  BAR2   FLEX     FXD   ORG    OTC   RBT   REPO    SCF    SMP  \\\n",
       "Family                                                                        \n",
       "CURR    1546.0  27.0  226.0  3419.0   0.0    0.0  53.0    0.0    0.0  345.0   \n",
       "EQD       26.0   0.0  646.0     0.0  36.0  178.0   0.0  237.0    0.0    0.0   \n",
       "IRD        0.0   0.0    0.0     0.0   0.0    0.0   0.0  936.0    0.0    0.0   \n",
       "SCF        0.0   0.0    0.0     0.0   0.0    0.0   0.0    0.0  340.0    0.0   \n",
       "\n",
       "Type     SWLEG  \n",
       "Family          \n",
       "CURR    1744.0  \n",
       "EQD        0.0  \n",
       "IRD        0.0  \n",
       "SCF        0.0  "
      ]
     },
     "execution_count": 96,
     "metadata": {},
     "output_type": "execute_result"
    }
   ],
   "source": [
    "concatenated_df.groupby(['Family', 'Type'])\\\n",
    "  .apply(lambda x : x.count())\\\n",
    "  .iloc[:,0]\\\n",
    "  .unstack()\\\n",
    "  .fillna(0)"
   ]
  },
  {
   "cell_type": "code",
   "execution_count": 97,
   "metadata": {},
   "outputs": [
    {
     "data": {
      "text/html": [
       "<div>\n",
       "<style scoped>\n",
       "    .dataframe tbody tr th:only-of-type {\n",
       "        vertical-align: middle;\n",
       "    }\n",
       "\n",
       "    .dataframe tbody tr th {\n",
       "        vertical-align: top;\n",
       "    }\n",
       "\n",
       "    .dataframe thead th {\n",
       "        text-align: right;\n",
       "    }\n",
       "</style>\n",
       "<table border=\"1\" class=\"dataframe\">\n",
       "  <thead>\n",
       "    <tr style=\"text-align: right;\">\n",
       "      <th>Type</th>\n",
       "      <th>BAR</th>\n",
       "      <th>BAR2</th>\n",
       "      <th>FLEX</th>\n",
       "      <th>FXD</th>\n",
       "      <th>ORG</th>\n",
       "      <th>OTC</th>\n",
       "      <th>RBT</th>\n",
       "      <th>REPO</th>\n",
       "      <th>SCF</th>\n",
       "      <th>SMP</th>\n",
       "      <th>SWLEG</th>\n",
       "    </tr>\n",
       "    <tr>\n",
       "      <th>Group</th>\n",
       "      <th></th>\n",
       "      <th></th>\n",
       "      <th></th>\n",
       "      <th></th>\n",
       "      <th></th>\n",
       "      <th></th>\n",
       "      <th></th>\n",
       "      <th></th>\n",
       "      <th></th>\n",
       "      <th></th>\n",
       "      <th></th>\n",
       "    </tr>\n",
       "  </thead>\n",
       "  <tbody>\n",
       "    <tr>\n",
       "      <th>FXD</th>\n",
       "      <td>0.0</td>\n",
       "      <td>0.0</td>\n",
       "      <td>0.0</td>\n",
       "      <td>3419.0</td>\n",
       "      <td>0.0</td>\n",
       "      <td>0.0</td>\n",
       "      <td>0.0</td>\n",
       "      <td>0.0</td>\n",
       "      <td>0.0</td>\n",
       "      <td>0.0</td>\n",
       "      <td>1744.0</td>\n",
       "    </tr>\n",
       "    <tr>\n",
       "      <th>OPT</th>\n",
       "      <td>1572.0</td>\n",
       "      <td>27.0</td>\n",
       "      <td>872.0</td>\n",
       "      <td>0.0</td>\n",
       "      <td>36.0</td>\n",
       "      <td>178.0</td>\n",
       "      <td>53.0</td>\n",
       "      <td>0.0</td>\n",
       "      <td>0.0</td>\n",
       "      <td>345.0</td>\n",
       "      <td>0.0</td>\n",
       "    </tr>\n",
       "    <tr>\n",
       "      <th>REPO</th>\n",
       "      <td>0.0</td>\n",
       "      <td>0.0</td>\n",
       "      <td>0.0</td>\n",
       "      <td>0.0</td>\n",
       "      <td>0.0</td>\n",
       "      <td>0.0</td>\n",
       "      <td>0.0</td>\n",
       "      <td>1173.0</td>\n",
       "      <td>0.0</td>\n",
       "      <td>0.0</td>\n",
       "      <td>0.0</td>\n",
       "    </tr>\n",
       "    <tr>\n",
       "      <th>SCF</th>\n",
       "      <td>0.0</td>\n",
       "      <td>0.0</td>\n",
       "      <td>0.0</td>\n",
       "      <td>0.0</td>\n",
       "      <td>0.0</td>\n",
       "      <td>0.0</td>\n",
       "      <td>0.0</td>\n",
       "      <td>0.0</td>\n",
       "      <td>340.0</td>\n",
       "      <td>0.0</td>\n",
       "      <td>0.0</td>\n",
       "    </tr>\n",
       "  </tbody>\n",
       "</table>\n",
       "</div>"
      ],
      "text/plain": [
       "Type      BAR  BAR2   FLEX     FXD   ORG    OTC   RBT    REPO    SCF    SMP  \\\n",
       "Group                                                                         \n",
       "FXD       0.0   0.0    0.0  3419.0   0.0    0.0   0.0     0.0    0.0    0.0   \n",
       "OPT    1572.0  27.0  872.0     0.0  36.0  178.0  53.0     0.0    0.0  345.0   \n",
       "REPO      0.0   0.0    0.0     0.0   0.0    0.0   0.0  1173.0    0.0    0.0   \n",
       "SCF       0.0   0.0    0.0     0.0   0.0    0.0   0.0     0.0  340.0    0.0   \n",
       "\n",
       "Type    SWLEG  \n",
       "Group          \n",
       "FXD    1744.0  \n",
       "OPT       0.0  \n",
       "REPO      0.0  \n",
       "SCF       0.0  "
      ]
     },
     "execution_count": 97,
     "metadata": {},
     "output_type": "execute_result"
    }
   ],
   "source": [
    "concatenated_df.groupby(['Group', 'Type'])\\\n",
    "  .apply(lambda x : x.count())\\\n",
    "  .iloc[:,0]\\\n",
    "  .unstack()\\\n",
    "  .fillna(0)"
   ]
  },
  {
   "cell_type": "code",
   "execution_count": 98,
   "metadata": {},
   "outputs": [
    {
     "data": {
      "text/plain": [
       "array([ 2,  0,  4,  1,  5,  3,  8, 15, 10, 11,  9,  6, 12,  7],\n",
       "      dtype=int64)"
      ]
     },
     "execution_count": 98,
     "metadata": {},
     "output_type": "execute_result"
    }
   ],
   "source": [
    "concatenated_df['AgingDay'].unique()"
   ]
  },
  {
   "cell_type": "markdown",
   "metadata": {},
   "source": [
    "#### All CNRs have < 15 days of being outstanding"
   ]
  },
  {
   "cell_type": "code",
   "execution_count": 99,
   "metadata": {},
   "outputs": [
    {
     "data": {
      "text/plain": [
       "16/10/2018    914\n",
       "18/10/2018    886\n",
       "19/02/2019    465\n",
       "28/02/2019    297\n",
       "04/01/2019    287\n",
       "             ... \n",
       "16/06/2014      1\n",
       "08/02/2017      1\n",
       "04/07/2017      1\n",
       "16/06/2019      1\n",
       "15/02/2017      1\n",
       "Name: TradeDate, Length: 452, dtype: int64"
      ]
     },
     "execution_count": 99,
     "metadata": {},
     "output_type": "execute_result"
    }
   ],
   "source": [
    "#TradeDate \n",
    "concatenated_df['TradeDate'].value_counts()"
   ]
  },
  {
   "cell_type": "code",
   "execution_count": 100,
   "metadata": {},
   "outputs": [
    {
     "data": {
      "text/plain": [
       "array([2019, 2018, 2012, 2016, 2015, 2017, 2010, 2011, 2013, 2014],\n",
       "      dtype=int64)"
      ]
     },
     "execution_count": 100,
     "metadata": {},
     "output_type": "execute_result"
    }
   ],
   "source": [
    "#TradeDate \n",
    "concatenated_df['Year'].unique()"
   ]
  },
  {
   "cell_type": "code",
   "execution_count": 101,
   "metadata": {},
   "outputs": [
    {
     "data": {
      "text/plain": [
       "2019    15823\n",
       "2018     2730\n",
       "2017      150\n",
       "2015      126\n",
       "2016       94\n",
       "2014       58\n",
       "2010       16\n",
       "2013       12\n",
       "2011        4\n",
       "2012        4\n",
       "Name: Year, dtype: int64"
      ]
     },
     "execution_count": 101,
     "metadata": {},
     "output_type": "execute_result"
    }
   ],
   "source": [
    "concatenated_df['Year'].value_counts()"
   ]
  },
  {
   "cell_type": "markdown",
   "metadata": {},
   "source": [
    "#### The trade dates of the product go as far back as to 2010 and most of the CNRs are from trades made in 2019"
   ]
  },
  {
   "cell_type": "code",
   "execution_count": 102,
   "metadata": {},
   "outputs": [
    {
     "data": {
      "text/plain": [
       "array([   0,    1,  169,   42,    2,  251,   31,    4,    8, 2148,   94,\n",
       "         22,    3,  189,  115,   67,   53,   84,   20,  248,    5,   56,\n",
       "         55,   43,   32,   30,   18,  239,   16,   19,   52,   13,   64,\n",
       "         33,   97,   15,    6,  203,  105,   25,   14,   17,  121,  238,\n",
       "        237,  236,  233,  231,  228,  222,  221,  218,  204,  192,  191,\n",
       "        181,  178,  176,  163,  149,  144,  245,  244,  162,  114,  757,\n",
       "       1034,  217,  223,  154,  130,  129,  127,  125,  118,  117,  106,\n",
       "        103,   95,   88,   85,   77,   60,   51,   50,   49,   39,   37,\n",
       "         34,   29,  288,    9,  256,    7,  598,  590,  123,  259,  175,\n",
       "        174,  133,   68,   26,  603,  602,   24,  519,  489,  457,  307,\n",
       "        253,  234,  170,  126,   86,   23,   10,  128,  604,   78,  816,\n",
       "        424,   89,   87, 3121, 3105, 3080, 3067, 3066, 3025, 2989, 2612,\n",
       "       2588, 2303, 2009, 2001, 1845, 1811, 1793, 1782, 1712, 1700, 1693,\n",
       "       1686, 1665, 1644, 1608, 1561, 1552, 1511, 1503, 1447, 1428, 1427,\n",
       "       1378, 1349, 1300, 1257, 1251, 1246, 1210, 1204, 1152, 1096, 1091,\n",
       "       1085, 1132, 1057, 1055, 1050, 1041, 1040, 1036, 1033,  998,  970,\n",
       "        972,  966,  960,  949,  944,  931,  924,  910,  896,  824,  805,\n",
       "        804,  774,  769,  754,  726,  707,  728,  609,  599,  588,  586,\n",
       "        574,  571,  560,  558,  540,  539,  537,  522,  518,  509,  503,\n",
       "        501,  490,  476,  466,  455,  456,  454,  453,  452,  449,  448,\n",
       "        447,  446,  445,  438,  435,  434,  428,  419,  403,  399,  398,\n",
       "        397,  370,  369,  365,  356,  343,  335,  328, 1394,  355, 1323,\n",
       "        246, 1645,  250,  271,  273,  240,  227,  226,  210,  208,  207,\n",
       "        206,  202,  196,  195,  194,  193,  190,  188,  171,  167,  161,\n",
       "        160,  153,  152,  150,  148,  141,  139,  138,  134,  132,  124,\n",
       "        120,  116,  113,  111,  110,  109,  108,  107,  104,  102,  101,\n",
       "        100,   99,   98,   96,   93,   92,   90,  156,  135,  122,  112,\n",
       "         83,   82,   79,   76,   74,   73,   72,   71,   70,   69,   63,\n",
       "         62,   61,   59,   58,   45,   44,   41,   38,   36,   35,   28,\n",
       "         27, 1054,   12,  182,   11,   75, 1325,   46,   21,   91,  252,\n",
       "        719,  875,  249,  155,  486,  254, 1598,   47,  119,  276,   80,\n",
       "        956, 1421,  247,  230,  232,  211,  146,  594,  585,   54,   65,\n",
       "        310,  679,  680,  999,  147,  131,  410,  166,   66, 1003, 1004,\n",
       "        168,  977,  976,  975,  974,  969,  968,  963,  954,  948,  947,\n",
       "        293,  184,  136, 1008,  331,  137,  185, 1321,  140,  143,  145,\n",
       "        580,  579,  142,  151,   40,  158,  159, 1751,  164,   57,   48,\n",
       "        287, 1560,  306], dtype=int64)"
      ]
     },
     "execution_count": 102,
     "metadata": {},
     "output_type": "execute_result"
    }
   ],
   "source": [
    "concatenated_df['EventAging'].unique()"
   ]
  },
  {
   "cell_type": "code",
   "execution_count": 103,
   "metadata": {},
   "outputs": [
    {
     "data": {
      "text/plain": [
       "<AxesSubplot:xlabel='Year', ylabel='EventAging'>"
      ]
     },
     "execution_count": 103,
     "metadata": {},
     "output_type": "execute_result"
    },
    {
     "data": {
      "image/png": "[encoded data removed]",
      "text/plain": [
       "<Figure size 432x288 with 1 Axes>"
      ]
     },
     "metadata": {
      "needs_background": "light"
     },
     "output_type": "display_data"
    }
   ],
   "source": [
    "sns.boxplot(x=concatenated_df['Year'], y=concatenated_df['EventAging'], data=concatenated_df)"
   ]
  },
  {
   "cell_type": "markdown",
   "metadata": {},
   "source": [
    "#### EventAging increases as TradeDate gets older"
   ]
  },
  {
   "cell_type": "code",
   "execution_count": 104,
   "metadata": {},
   "outputs": [
    {
     "name": "stdout",
     "output_type": "stream",
     "text": [
      "12\n",
      "['IRD_LN_BR' 'EQD_FUT' 'EQD_EQUIT' 'IRD_BOND' 'EQD_EQS' 'COM_FUT'\n",
      " 'IRD_IRS' 'IRD_SFUT' 'COM_SWAP' 'IRD_CS' 'IRD_CF' 'IRD_LFUT']\n"
     ]
    }
   ],
   "source": [
    "ProductTypeWithNoType = concatenated_df.ProductType[concatenated_df['Type'].isnull()].unique()\n",
    "print(len(ProductTypeWithNoType))\n",
    "print(ProductTypeWithNoType)"
   ]
  },
  {
   "cell_type": "code",
   "execution_count": 105,
   "metadata": {},
   "outputs": [
    {
     "name": "stdout",
     "output_type": "stream",
     "text": [
      "14\n",
      "['CURR_FXD_SWLEG' 'CURR_FXD_FXD' 'CURR_OPT_FLEX' 'CURR_OPT_SMP'\n",
      " 'CURR_OPT_BAR' 'EQD_OPT_FLEX' 'SCF_SCF_SCF' 'EQD_OPT_OTC' 'IRD_REPO_REPO'\n",
      " 'CURR_OPT_RBT' 'EQD_OPT_ORG' 'EQD_REPO_REPO' 'EQD_OPT_BAR'\n",
      " 'CURR_OPT_BAR2']\n"
     ]
    }
   ],
   "source": [
    "ProductTypeWithType = concatenated_df.ProductType[concatenated_df['Type'].notnull()].unique()\n",
    "print(len(ProductTypeWithType))\n",
    "print(ProductTypeWithType)"
   ]
  },
  {
   "cell_type": "code",
   "execution_count": 106,
   "metadata": {},
   "outputs": [
    {
     "data": {
      "text/plain": [
       "False"
      ]
     },
     "execution_count": 106,
     "metadata": {},
     "output_type": "execute_result"
    }
   ],
   "source": [
    "#Check if the product types with type null and not null are different\n",
    "set(ProductTypeWithNoType) == set(ProductTypeWithType)"
   ]
  },
  {
   "cell_type": "markdown",
   "metadata": {},
   "source": [
    "#### The product types that have a NULL type and the product types that have a Type value are mutually exclusive"
   ]
  },
  {
   "cell_type": "code",
   "execution_count": 107,
   "metadata": {},
   "outputs": [
    {
     "data": {
      "text/plain": [
       "26"
      ]
     },
     "execution_count": 107,
     "metadata": {},
     "output_type": "execute_result"
    }
   ],
   "source": [
    "len(concatenated_df.ProductType.unique())"
   ]
  },
  {
   "cell_type": "markdown",
   "metadata": {},
   "source": [
    "#### There are 26 unique product types"
   ]
  },
  {
   "cell_type": "code",
   "execution_count": 108,
   "metadata": {},
   "outputs": [
    {
     "data": {
      "text/plain": [
       "1318"
      ]
     },
     "execution_count": 108,
     "metadata": {},
     "output_type": "execute_result"
    }
   ],
   "source": [
    "#Number of unique instrumentname\n",
    "len(concatenated_df.InstrumentName.unique())"
   ]
  },
  {
   "cell_type": "markdown",
   "metadata": {},
   "source": [
    "#### There are 1318 unique instruments"
   ]
  },
  {
   "cell_type": "code",
   "execution_count": 453,
   "metadata": {},
   "outputs": [],
   "source": [
    "#Write dataframe to file for ingestion into tool for dashboarding\n",
    "concatenated_df.to_csv('CNR.csv')"
   ]
  },
  {
   "cell_type": "code",
   "execution_count": null,
   "metadata": {},
   "outputs": [],
   "source": []
  }
 ],
 "metadata": {
  "kernelspec": {
   "display_name": "Python 3",
   "language": "python",
   "name": "python3"
  },
  "language_info": {
   "codemirror_mode": {
    "name": "ipython",
    "version": 3
   },
   "file_extension": ".py",
   "mimetype": "text/x-python",
   "name": "python",
   "nbconvert_exporter": "python",
   "pygments_lexer": "ipython3",
   "version": "3.8.10"
  },
  "papermill": {
   "default_parameters": {},
   "duration": 23.330508,
   "end_time": "2021-03-02T18:08:53.272363",
   "environment_variables": {},
   "exception": null,
   "input_path": "__notebook__.ipynb",
   "output_path": "__notebook__.ipynb",
   "parameters": {},
   "start_time": "2021-03-02T18:08:29.941855",
   "version": "2.2.2"
  }
 },
 "nbformat": 4,
 "nbformat_minor": 4
}
